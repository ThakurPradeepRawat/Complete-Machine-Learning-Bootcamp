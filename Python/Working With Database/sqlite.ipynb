{
 "cells": [
  {
   "cell_type": "markdown",
   "id": "c6d14ec3",
   "metadata": {},
   "source": [
    "# SQL And SQLite "
   ]
  },
  {
   "cell_type": "markdown",
   "id": "764df5e8",
   "metadata": {},
   "source": [
    "SQL(Structured Query Language) is a standard language for managing and manipulating relational databases. SQLite is a self - contained , serverless , and zero-configuration database engine that is widely used for embedded database systems. "
   ]
  },
  {
   "cell_type": "code",
   "execution_count": 1,
   "id": "7d6ca1eb",
   "metadata": {},
   "outputs": [],
   "source": [
    "import sqlite3"
   ]
  },
  {
   "cell_type": "code",
   "execution_count": 2,
   "id": "21468209",
   "metadata": {},
   "outputs": [],
   "source": [
    "## connect to the database\n",
    "conn = sqlite3.connect('employee.db')    "
   ]
  },
  {
   "cell_type": "code",
   "execution_count": 3,
   "id": "5e4c527f",
   "metadata": {},
   "outputs": [
    {
     "data": {
      "text/plain": [
       "<sqlite3.Cursor at 0x1a32f317640>"
      ]
     },
     "execution_count": 3,
     "metadata": {},
     "output_type": "execute_result"
    }
   ],
   "source": [
    "conn.execute(''' drop table if exists employee ''')"
   ]
  },
  {
   "cell_type": "code",
   "execution_count": 4,
   "id": "86d70447",
   "metadata": {},
   "outputs": [
    {
     "name": "stdout",
     "output_type": "stream",
     "text": [
      "Table created successfully\n"
     ]
    }
   ],
   "source": [
    "## create table in employee.db \n",
    "conn.execute('''CREATE Table IF NOT EXISTS  EMPLOYEE\n",
    "         (ID INT PRIMARY KEY     NOT NULL,\n",
    "         NAME           TEXT    NOT NULL,\n",
    "         AGE            INT     NOT NULL,\n",
    "         ADDRESS        CHAR(50),\n",
    "         SALARY         REAL);''')\n",
    "print(\"Table created successfully\")\n",
    "conn.close()"
   ]
  },
  {
   "cell_type": "code",
   "execution_count": 5,
   "id": "d0baeb13",
   "metadata": {},
   "outputs": [
    {
     "name": "stdout",
     "output_type": "stream",
     "text": [
      "Opened database successfully\n",
      "Records created successfully\n"
     ]
    }
   ],
   "source": [
    "## insert data into the table\n",
    "conn = sqlite3.connect('employee.db')\n",
    "print(\"Opened database successfully\")\n",
    "conn.execute(\"INSERT INTO EMPLOYEE (ID,NAME,AGE,ADDRESS,SALARY) \\\n",
    "      VALUES (1, 'Paul', 32, 'California', 20000.00 )\") \n",
    "conn.execute(\"INSERT INTO EMPLOYEE (ID,NAME,AGE,ADDRESS,SALARY) \\\n",
    "      VALUES (2, 'Allen', 25, 'Texas', 15000.00 )\") \n",
    "conn.execute(\"INSERT INTO EMPLOYEE (ID,NAME,AGE,ADDRESS,SALARY) \\\n",
    "      VALUES (3, 'Teddy', 23, 'Norway', 20000.00 )\")       \n",
    "\n",
    "conn.commit()\n",
    "print(\"Records created successfully\")\n",
    "conn.close()"
   ]
  },
  {
   "cell_type": "code",
   "execution_count": 6,
   "id": "c6d61b8e",
   "metadata": {},
   "outputs": [
    {
     "name": "stdout",
     "output_type": "stream",
     "text": [
      "Opened database successfully\n",
      "(1, 'Paul', 'California', 20000.0)\n",
      "(2, 'Allen', 'Texas', 15000.0)\n",
      "(3, 'Teddy', 'Norway', 20000.0)\n"
     ]
    }
   ],
   "source": [
    "## select data from the table\n",
    "conn = sqlite3.connect('employee.db')\n",
    "print(\"Opened database successfully\")\n",
    "cursor = conn.execute(\"SELECT id, name, address, salary from EMPLOYEE\")\n",
    "for row in cursor:\n",
    "   print(row)\n",
    "conn.close()"
   ]
  },
  {
   "cell_type": "code",
   "execution_count": 7,
   "id": "1519d103",
   "metadata": {},
   "outputs": [
    {
     "name": "stdout",
     "output_type": "stream",
     "text": [
      "Opened database successfully\n",
      "Row updated successfully\n",
      "Total number of rows updated : 1\n"
     ]
    }
   ],
   "source": [
    "## update data in the table\n",
    "conn = sqlite3.connect('employee.db')\n",
    "print(\"Opened database successfully\")\n",
    "conn.execute(\"UPDATE EMPLOYEE set SALARY = 25000.00 where ID = 1\")\n",
    "conn.commit()\n",
    "print(\"Row updated successfully\")\n",
    "print(\"Total number of rows updated :\", conn.total_changes)\n",
    "conn.close()"
   ]
  },
  {
   "cell_type": "code",
   "execution_count": 8,
   "id": "cec6cd8c",
   "metadata": {},
   "outputs": [
    {
     "name": "stdout",
     "output_type": "stream",
     "text": [
      "Opened database successfully\n",
      "Data deleted successfully\n",
      "Total number of rows deleted : 1\n"
     ]
    }
   ],
   "source": [
    "## delete data from the table\n",
    "conn = sqlite3.connect('employee.db')\n",
    "print(\"Opened database successfully\")\n",
    "conn.execute(\"DELETE from EMPLOYEE where ID = 2;\")\n",
    "conn.commit()\n",
    "print(\"Data deleted successfully\")\n",
    "print(\"Total number of rows deleted :\", conn.total_changes)\n",
    "conn.close()"
   ]
  },
  {
   "cell_type": "code",
   "execution_count": null,
   "id": "dea5be61",
   "metadata": {},
   "outputs": [],
   "source": []
  }
 ],
 "metadata": {
  "kernelspec": {
   "display_name": "Python 3",
   "language": "python",
   "name": "python3"
  },
  "language_info": {
   "codemirror_mode": {
    "name": "ipython",
    "version": 3
   },
   "file_extension": ".py",
   "mimetype": "text/x-python",
   "name": "python",
   "nbconvert_exporter": "python",
   "pygments_lexer": "ipython3",
   "version": "3.13.0"
  }
 },
 "nbformat": 4,
 "nbformat_minor": 5
}
