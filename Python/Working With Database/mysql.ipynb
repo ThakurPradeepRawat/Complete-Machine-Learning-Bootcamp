{
 "cells": [
  {
   "cell_type": "markdown",
   "id": "a36d248a",
   "metadata": {},
   "source": [
    "# Communcation between Python Program and MySql"
   ]
  },
  {
   "cell_type": "code",
   "execution_count": 1,
   "id": "eb401b51",
   "metadata": {},
   "outputs": [],
   "source": [
    "#step 1\n",
    "# Import the necessary libraries\n",
    "import mysql.connector"
   ]
  },
  {
   "cell_type": "markdown",
   "id": "c8aab3cb",
   "metadata": {},
   "source": [
    "## Create Database"
   ]
  },
  {
   "cell_type": "code",
   "execution_count": 2,
   "id": "644acb4a",
   "metadata": {},
   "outputs": [
    {
     "name": "stdout",
     "output_type": "stream",
     "text": [
      "Database Created in MySQL--Verify\n"
     ]
    }
   ],
   "source": [
    "## create database in MySQL\n",
    "def createDB():\n",
    "    try:\n",
    "        # step 2\n",
    "        # Connect to MySQL \n",
    "        con = mysql.connector.connect(host=\"127.0.0.1\",\n",
    "                                      user=\"root\",\n",
    "                                      passwd=\"9098562460\",\n",
    "                                      auth_plugin='mysql_native_password'\n",
    "                                      )\n",
    "        #Step-3\n",
    "        # Create a cursor object using the connection\n",
    "        # This cursor allows us to execute SQL queries\n",
    "        cur = con.cursor()\n",
    "        #Step-4\n",
    "        dbc=\"create database if not exists MachineLearning\"\n",
    "        # This SQL command creates a database named 'MachineLearning' if it doesn't already exist\n",
    "        # Execute the SQL command to create a database\n",
    "        cur.execute(dbc)\n",
    "        #Step-5\n",
    "        \n",
    "        print(\"Database Created in MySQL--Verify\")\n",
    "    except mysql.connector.DatabaseError as db:\n",
    "        print(\"Problem with MySQL: \", db)\n",
    "\n",
    "#Main Program\n",
    "createDB()"
   ]
  },
  {
   "cell_type": "markdown",
   "id": "c2d16ffb",
   "metadata": {},
   "source": [
    "## Create Table"
   ]
  },
  {
   "cell_type": "code",
   "execution_count": 3,
   "id": "48839fec",
   "metadata": {},
   "outputs": [
    {
     "name": "stdout",
     "output_type": "stream",
     "text": [
      "Database Selected\n",
      "Table Created in MySQL--Verify\n"
     ]
    }
   ],
   "source": [
    "## create table in MySQL\n",
    "def CreateTable():\n",
    "    try:\n",
    "        con = mysql.connector.connect(host=\"127.0.0.1\",\n",
    "                                      user=\"root\",\n",
    "                                      passwd=\"9098562460\",\n",
    "                                      auth_plugin='mysql_native_password')\n",
    "        cur = con.cursor()\n",
    "        query = \"use MachineLearning\"\n",
    "        cur.execute(query)\n",
    "        # This SQL command selects the 'MachineLearning' database for use\n",
    "        # Execute the SQL command to select the database\n",
    "        print(\"Database Selected\")\n",
    "        query2 = \"create table if not exists Employee(empid int primary key, empname varchar(20), empemail varchar(20), empsalary int)\"\n",
    "        # This SQL command creates a table named 'Employee' with specified columns and data types\n",
    "        # Execute the SQL command to create the table\n",
    "        cur.execute(query2)\n",
    "        print(\"Table Created in MySQL--Verify\")\n",
    "    except mysql.connector.DatabaseError as db:\n",
    "        print(\"Problem with MySQL: \", db)\n",
    "CreateTable()\n"
   ]
  },
  {
   "cell_type": "markdown",
   "id": "2c20f388",
   "metadata": {},
   "source": [
    "## Insert data"
   ]
  },
  {
   "cell_type": "code",
   "execution_count": 4,
   "id": "1abe6b5c",
   "metadata": {},
   "outputs": [
    {
     "name": "stdout",
     "output_type": "stream",
     "text": [
      "Data Inserted into Employee Table\n"
     ]
    }
   ],
   "source": [
    "## insert data into table in MySQL\n",
    "def Insert_data():\n",
    "    try:\n",
    "        con = mysql.connector.connect(host=\"localhost\",\n",
    "                                           user=\"root\",\n",
    "                                           passwd=\"9098562460\",\n",
    "                                           auth_plugin=\"mysql_native_password\",\n",
    "                                           database='MachineLearning')\n",
    "        cur=con.cursor()\n",
    "        empid=int(input(\"Enter Employee ID: \"))\n",
    "        empname=input(\"Enter Employee Name: \")\n",
    "        empemail=input(\"Enter Employee Email: \")\n",
    "        empsalary=int(input(\"Enter Employee Salary: \"))\n",
    "        # This SQL command inserts a new record into the 'Employee' table with the provided values\n",
    "        query=\"insert into employee(empid, empname, empemail, empsalary) values(\"+str(empid)+\",'\"+empname+\"','\"+empemail+\"',\"+str(empsalary)+\")\"\n",
    "        cur.execute(query)\n",
    "        con.commit()\n",
    "        print(\"Data Inserted into Employee Table\")\n",
    "        con.close()\n",
    "    except mysql.connector.DatabaseError as db:\n",
    "        print(\"Problem with MySQL: \", db)\n",
    "Insert_data()"
   ]
  },
  {
   "cell_type": "markdown",
   "id": "67f61136",
   "metadata": {},
   "source": [
    "## Select Data"
   ]
  },
  {
   "cell_type": "code",
   "execution_count": 5,
   "id": "4c877d6c",
   "metadata": {},
   "outputs": [
    {
     "name": "stdout",
     "output_type": "stream",
     "text": [
      "(1, 'Pradeep Rawat', 'P4458@gmail.com', 50000)\n",
      "(2, 'naman', 'a.4458@gmail.com', 45550)\n",
      "(3, 'akash', 's@gmail.com', 234455)\n"
     ]
    }
   ],
   "source": [
    "## select data from table in MySQL\n",
    "def datafetch():\n",
    "    try:\n",
    "        con = mysql.connector.connect(host=\"localhost\",\n",
    "                                      user='root',\n",
    "                                      passwd=\"9098562460\",\n",
    "                                           auth_plugin=\"mysql_native_password\",\n",
    "                                           database='MachineLearning')\n",
    "\n",
    "        cur=con.cursor()\n",
    "        query=\"select * from employee\"\n",
    "        cur.execute(query)\n",
    "        result = cur.fetchall()\n",
    "        for row in result :\n",
    "            print(row)\n",
    "        con.close()\n",
    "    except mysql.connector.DatabaseError as db:\n",
    "        print(\"Problem with MySQL :\" , db)\n",
    "datafetch()"
   ]
  },
  {
   "cell_type": "markdown",
   "id": "316ea5e5",
   "metadata": {},
   "source": [
    "## Update Data"
   ]
  },
  {
   "cell_type": "code",
   "execution_count": 8,
   "id": "ce3d47c3",
   "metadata": {},
   "outputs": [
    {
     "name": "stdout",
     "output_type": "stream",
     "text": [
      "Data Updated in Employee Table\n"
     ]
    }
   ],
   "source": [
    "## update data from table in MySql\n",
    "def update_data():\n",
    "    try:\n",
    "        con = mysql.connector.connect(host=\"localhost\",\n",
    "                                      user='root',\n",
    "                                      passwd=\"9098562460\",\n",
    "                                    auth_plugin=\"mysql_native_password\",\n",
    "                                    database='MachineLearning')\n",
    "        cur = con.cursor()\n",
    "        query=\"update employee set empname='John' where empid=3\"\n",
    "        # This SQL command updates the 'empname' of the employee with 'empid' 1 to 'John'\n",
    "        cur.execute(query)\n",
    "        con.commit()\n",
    "        print(\"Data Updated in Employee Table\")\n",
    "        con.close()  \n",
    "    except mysql.connector.DatabaseError as db:\n",
    "        print(\"Problem with MySQL :\" , db)\n",
    "update_data()"
   ]
  },
  {
   "cell_type": "markdown",
   "id": "87b0b39e",
   "metadata": {},
   "source": [
    "## Delete Data"
   ]
  },
  {
   "cell_type": "code",
   "execution_count": 9,
   "id": "ab194865",
   "metadata": {},
   "outputs": [
    {
     "name": "stdout",
     "output_type": "stream",
     "text": [
      "Data Deleted in Employee Table\n"
     ]
    }
   ],
   "source": [
    "## delete data from table in MySQL\n",
    "def delete_data():\n",
    "    try:\n",
    "        con = mysql.connector.connect(host=\"localhost\",\n",
    "                                      user='root',\n",
    "                                      passwd=\"9098562460\",\n",
    "                                      auth_plugin=\"mysql_native_password\",\n",
    "                                      database='MachineLearning')\n",
    "        cur = con.cursor()\n",
    "        query=\"delete from employee where empid=2\"\n",
    "        # This SQL command deletes the employee with 'empid' 2 from the 'Employee' table\n",
    "        cur.execute(query)\n",
    "        con.commit()\n",
    "        print(\"Data Deleted in Employee Table\")\n",
    "        con.close()  \n",
    "    except mysql.connector.DatabaseError as db:\n",
    "        print(\"Problem with MySQL :\" , db)\n",
    "delete_data()"
   ]
  },
  {
   "cell_type": "markdown",
   "id": "0304c7aa",
   "metadata": {},
   "source": [
    "## Drop Table"
   ]
  },
  {
   "cell_type": "code",
   "execution_count": 10,
   "id": "37972adf",
   "metadata": {},
   "outputs": [
    {
     "name": "stdout",
     "output_type": "stream",
     "text": [
      "Table Deleted in Employee Table\n"
     ]
    }
   ],
   "source": [
    "## drop table in MySQL\n",
    "def drop_table():\n",
    "    try:\n",
    "        con = mysql.connector.connect(host=\"localhost\",\n",
    "                                      user='root',\n",
    "                                      passwd=\"9098562460\",\n",
    "                                      auth_plugin=\"mysql_native_password\",\n",
    "                                      database='MachineLearning')\n",
    "        cur = con.cursor()\n",
    "        query=\"drop table employee\"\n",
    "        # This SQL command drops the 'Employee' table from the database\n",
    "        cur.execute(query)\n",
    "        con.commit()\n",
    "        print(\"Table Deleted in Employee Table\")\n",
    "        con.close()  \n",
    "    except mysql.connector.DatabaseError as db:\n",
    "        print(\"Problem with MySQL :\" , db)\n",
    "drop_table()"
   ]
  },
  {
   "cell_type": "code",
   "execution_count": null,
   "id": "236c119c",
   "metadata": {},
   "outputs": [],
   "source": []
  }
 ],
 "metadata": {
  "kernelspec": {
   "display_name": "Python 3",
   "language": "python",
   "name": "python3"
  },
  "language_info": {
   "codemirror_mode": {
    "name": "ipython",
    "version": 3
   },
   "file_extension": ".py",
   "mimetype": "text/x-python",
   "name": "python",
   "nbconvert_exporter": "python",
   "pygments_lexer": "ipython3",
   "version": "3.13.0"
  }
 },
 "nbformat": 4,
 "nbformat_minor": 5
}
