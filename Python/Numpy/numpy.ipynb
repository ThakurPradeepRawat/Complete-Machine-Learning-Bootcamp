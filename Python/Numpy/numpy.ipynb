{
 "cells": [
  {
   "cell_type": "markdown",
   "id": "12edc993",
   "metadata": {},
   "source": [
    "# NUMPY\n"
   ]
  },
  {
   "cell_type": "markdown",
   "id": "2f30e055",
   "metadata": {},
   "source": [
    "Numpy is a fundamental library for scientific computing in python . It provides supports for arrays and matrices, along with a collection of mathematical functions to operate on these data structures."
   ]
  },
  {
   "cell_type": "code",
   "execution_count": 120,
   "id": "df29f637",
   "metadata": {},
   "outputs": [],
   "source": [
    "import numpy as np"
   ]
  },
  {
   "cell_type": "markdown",
   "id": "670f4b68",
   "metadata": {},
   "source": [
    "##  Number of approaches to create an object of ndarray"
   ]
  },
  {
   "cell_type": "markdown",
   "id": "77918336",
   "metadata": {},
   "source": [
    "To create an object of ndarray . We have many approaches "
   ]
  },
  {
   "cell_type": "markdown",
   "id": "3ff117fb",
   "metadata": {},
   "source": [
    "                    1. array()\n",
    "                    2. arange()\n",
    "                    3. zeros()\n",
    "                    4. ones()\n",
    "                    5. full()\n",
    "                    6. linspace()\n",
    "                    7. eye()\n",
    "                    8. identity()\n",
    "                    9. hsatck()\n",
    "                    10. vstack()"
   ]
  },
  {
   "cell_type": "markdown",
   "id": "d189e959",
   "metadata": {},
   "source": [
    "## ndarray object attributes "
   ]
  },
  {
   "cell_type": "markdown",
   "id": "391e798d",
   "metadata": {},
   "source": [
    " Here  ndarray object contains the following attributes \n",
    " \n",
    "                  1. dtype\n",
    "                  2. ndim \n",
    "                  3. shape\n",
    "                  4. size\n",
    "                  5. itemsize"
   ]
  },
  {
   "cell_type": "markdown",
   "id": "aece8892",
   "metadata": {},
   "source": [
    "### create ndarry object using array()"
   ]
  },
  {
   "cell_type": "code",
   "execution_count": 121,
   "id": "20d98543",
   "metadata": {},
   "outputs": [
    {
     "name": "stdout",
     "output_type": "stream",
     "text": [
      "**************************************************\n",
      "Array 1:-  [1 2 3 4 5]\n",
      "Data Type of array 1:-  int64\n",
      "Dimension of array 1:-  1\n",
      "Size of array 1 :-  5\n",
      "Item size of array1 :- 8\n",
      "**************************************************\n"
     ]
    }
   ],
   "source": [
    "# create 1D array \n",
    "arr1 = np.array([1,2,3,4,5])\n",
    "print(\"*\"*50)\n",
    "print(\"Array 1:- \" , arr1)\n",
    "print(\"Data Type of array 1:- \" , arr1.dtype) \n",
    "print(\"Dimension of array 1:- \", arr1.ndim )\n",
    "print(\"Size of array 1 :- \", arr1.size)\n",
    "print(\"Item size of array1 :-\" , arr1.itemsize)\n",
    "print(\"*\"*50)"
   ]
  },
  {
   "cell_type": "code",
   "execution_count": 122,
   "id": "12f752f7",
   "metadata": {},
   "outputs": [
    {
     "name": "stdout",
     "output_type": "stream",
     "text": [
      "**************************************************\n",
      "Array 1:- \n",
      "  [[ 1  2  3  4  5]\n",
      " [ 6  7  8  9 10]]\n",
      "Data Type of array 1:-  int64\n",
      "Dimension of array 1:-  2\n",
      "Size of array 1 :-  10\n",
      "Item size of array1 :- 8\n",
      "**************************************************\n"
     ]
    }
   ],
   "source": [
    "# create 2D array \n",
    "arr1 = np.array([[1,2,3,4,5],[6,7,8,9,10]])\n",
    "print(\"*\"*50)\n",
    "print(\"Array 1:- \\n \" , arr1)\n",
    "print(\"Data Type of array 1:- \" , arr1.dtype) \n",
    "print(\"Dimension of array 1:- \", arr1.ndim )\n",
    "print(\"Size of array 1 :- \", arr1.size)\n",
    "print(\"Item size of array1 :-\" , arr1.itemsize)\n",
    "print(\"*\"*50)"
   ]
  },
  {
   "cell_type": "code",
   "execution_count": 123,
   "id": "f67c9f70",
   "metadata": {},
   "outputs": [
    {
     "name": "stdout",
     "output_type": "stream",
     "text": [
      "**************************************************\n",
      "Array 1:- \n",
      "  [[[  1   2   3   4   5]\n",
      "  [  6   7   8   9  10]]\n",
      "\n",
      " [[ 10  20  30  40  50]\n",
      "  [ 60  70  80  90 100]]]\n",
      "Data Type of array 1:-  int64\n",
      "Dimension of array 1:-  3\n",
      "Size of array 1 :-  20\n",
      "Item size of array1 :- 8\n",
      "**************************************************\n"
     ]
    }
   ],
   "source": [
    "# create 3D array \n",
    "arr1 = np.array([[[1,2,3,4,5],[6,7,8,9,10]] , [[10,20,30,40,50],[60,70,80,90,100]]])\n",
    "print(\"*\"*50)\n",
    "print(\"Array 1:- \\n \" , arr1)\n",
    "print(\"Data Type of array 1:- \" , arr1.dtype) \n",
    "print(\"Dimension of array 1:- \", arr1.ndim )\n",
    "print(\"Size of array 1 :- \", arr1.size)\n",
    "print(\"Item size of array1 :-\" , arr1.itemsize)\n",
    "print(\"*\"*50)"
   ]
  },
  {
   "cell_type": "markdown",
   "id": "4f269d82",
   "metadata": {},
   "source": [
    "### Create ndarray object using arange()"
   ]
  },
  {
   "cell_type": "code",
   "execution_count": 124,
   "id": "f69d0194",
   "metadata": {},
   "outputs": [
    {
     "name": "stdout",
     "output_type": "stream",
     "text": [
      "**************************************************\n",
      "Array 2:- \n",
      "  [0 1 2 3 4 5 6 7 8 9]\n",
      "Data Type of array 2:-  int64\n",
      "Dimension of array 2:-  1\n",
      "Size of array 2 :-  10\n",
      "Item size of array 2 :- 8\n",
      "**************************************************\n"
     ]
    }
   ],
   "source": [
    "# create 1d array \n",
    "arr2 = np.arange(10)\n",
    "print(\"*\"*50)\n",
    "print(\"Array 2:- \\n \" , arr2)\n",
    "print(\"Data Type of array 2:- \" , arr2.dtype) \n",
    "print(\"Dimension of array 2:- \", arr2.ndim )\n",
    "print(\"Size of array 2 :- \", arr2.size)\n",
    "print(\"Item size of array 2 :-\" , arr2.itemsize)\n",
    "print(\"*\"*50)"
   ]
  },
  {
   "cell_type": "code",
   "execution_count": 125,
   "id": "a4edbcad",
   "metadata": {},
   "outputs": [
    {
     "name": "stdout",
     "output_type": "stream",
     "text": [
      "**************************************************\n",
      "Array 2:- \n",
      "  [[0 1 2 3 4]\n",
      " [5 6 7 8 9]]\n",
      "Data Type of array 2:-  int64\n",
      "Dimension of array 2:-  2\n",
      "Size of array 2 :-  10\n",
      "Item size of array 2 :- 8\n",
      "**************************************************\n"
     ]
    }
   ],
   "source": [
    "# create 2d array \n",
    "arr2 = np.arange(10).reshape(2,5)\n",
    "print(\"*\"*50)\n",
    "print(\"Array 2:- \\n \" , arr2)\n",
    "print(\"Data Type of array 2:- \" , arr2.dtype) \n",
    "print(\"Dimension of array 2:- \", arr2.ndim )\n",
    "print(\"Size of array 2 :- \", arr2.size)\n",
    "print(\"Item size of array 2 :-\" , arr2.itemsize)\n",
    "print(\"*\"*50)"
   ]
  },
  {
   "cell_type": "code",
   "execution_count": 126,
   "id": "ba6f5e36",
   "metadata": {},
   "outputs": [
    {
     "name": "stdout",
     "output_type": "stream",
     "text": [
      "**************************************************\n",
      "Array 2:- \n",
      "  [[[10 13 16 19 22]\n",
      "  [25 28 31 34 37]]\n",
      "\n",
      " [[40 43 46 49 52]\n",
      "  [55 58 61 64 67]]\n",
      "\n",
      " [[70 73 76 79 82]\n",
      "  [85 88 91 94 97]]]\n",
      "Data Type of array 2:-  int64\n",
      "Dimension of array 2:-  3\n",
      "Size of array 2 :-  30\n",
      "Item size of array 2 :- 8\n",
      "**************************************************\n"
     ]
    }
   ],
   "source": [
    "# create 3d array \n",
    "arr2 = np.arange(10,100,3).reshape(3,2,5)\n",
    "print(\"*\"*50)\n",
    "print(\"Array 2:- \\n \" , arr2)\n",
    "print(\"Data Type of array 2:- \" , arr2.dtype) \n",
    "print(\"Dimension of array 2:- \", arr2.ndim )\n",
    "print(\"Size of array 2 :- \", arr2.size)\n",
    "print(\"Item size of array 2 :-\" , arr2.itemsize)\n",
    "print(\"*\"*50)"
   ]
  },
  {
   "cell_type": "markdown",
   "id": "c994472a",
   "metadata": {},
   "source": [
    "### Create ndarray object using zeros()"
   ]
  },
  {
   "cell_type": "code",
   "execution_count": 127,
   "id": "24db80f6",
   "metadata": {},
   "outputs": [
    {
     "data": {
      "text/plain": [
       "array([0., 0., 0., 0., 0.])"
      ]
     },
     "execution_count": 127,
     "metadata": {},
     "output_type": "execute_result"
    }
   ],
   "source": [
    "# create 1D array \n",
    "np.zeros(5)"
   ]
  },
  {
   "cell_type": "code",
   "execution_count": 128,
   "id": "6729f5f3",
   "metadata": {},
   "outputs": [
    {
     "data": {
      "text/plain": [
       "array([[0., 0.],\n",
       "       [0., 0.]])"
      ]
     },
     "execution_count": 128,
     "metadata": {},
     "output_type": "execute_result"
    }
   ],
   "source": [
    "# create 2d array\n",
    "np.zeros((2,2))"
   ]
  },
  {
   "cell_type": "code",
   "execution_count": 129,
   "id": "4feddf9f",
   "metadata": {},
   "outputs": [
    {
     "name": "stdout",
     "output_type": "stream",
     "text": [
      "[[[0. 0. 0.]\n",
      "  [0. 0. 0.]\n",
      "  [0. 0. 0.]]\n",
      "\n",
      " [[0. 0. 0.]\n",
      "  [0. 0. 0.]\n",
      "  [0. 0. 0.]]\n",
      "\n",
      " [[0. 0. 0.]\n",
      "  [0. 0. 0.]\n",
      "  [0. 0. 0.]]]\n",
      "<class 'numpy.ndarray'>\n"
     ]
    }
   ],
   "source": [
    "# create 3D zero matrix \n",
    "print(np.zeros((3,3,3)))\n",
    "print(type( np.zeros((3,3,3))))"
   ]
  },
  {
   "cell_type": "markdown",
   "id": "3acb24d6",
   "metadata": {},
   "source": [
    "### create  ndarray object using ones()"
   ]
  },
  {
   "cell_type": "code",
   "execution_count": 130,
   "id": "316448de",
   "metadata": {},
   "outputs": [
    {
     "data": {
      "text/plain": [
       "array([1., 1., 1., 1., 1.])"
      ]
     },
     "execution_count": 130,
     "metadata": {},
     "output_type": "execute_result"
    }
   ],
   "source": [
    "# 1D Ones matrix \n",
    "np.ones(5)"
   ]
  },
  {
   "cell_type": "code",
   "execution_count": 131,
   "id": "19d893eb",
   "metadata": {},
   "outputs": [
    {
     "data": {
      "text/plain": [
       "array([[1., 1., 1.],\n",
       "       [1., 1., 1.]])"
      ]
     },
     "execution_count": 131,
     "metadata": {},
     "output_type": "execute_result"
    }
   ],
   "source": [
    "# 2D Ones matrix\n",
    "np.ones((2,3))"
   ]
  },
  {
   "cell_type": "code",
   "execution_count": 132,
   "id": "6ca8f9d8",
   "metadata": {},
   "outputs": [
    {
     "data": {
      "text/plain": [
       "array([[[1., 1., 1.],\n",
       "        [1., 1., 1.],\n",
       "        [1., 1., 1.]],\n",
       "\n",
       "       [[1., 1., 1.],\n",
       "        [1., 1., 1.],\n",
       "        [1., 1., 1.]],\n",
       "\n",
       "       [[1., 1., 1.],\n",
       "        [1., 1., 1.],\n",
       "        [1., 1., 1.]]])"
      ]
     },
     "execution_count": 132,
     "metadata": {},
     "output_type": "execute_result"
    }
   ],
   "source": [
    "# 3d ones matrix \n",
    "np.ones((3,3,3))"
   ]
  },
  {
   "cell_type": "markdown",
   "id": "02db5af4",
   "metadata": {},
   "source": [
    "### create ndarray  object using linspace()"
   ]
  },
  {
   "cell_type": "code",
   "execution_count": 133,
   "id": "177178d6",
   "metadata": {},
   "outputs": [
    {
     "data": {
      "text/plain": [
       "array([10.        , 11.11111111, 12.22222222, 13.33333333, 14.44444444,\n",
       "       15.55555556, 16.66666667, 17.77777778, 18.88888889, 20.        ])"
      ]
     },
     "execution_count": 133,
     "metadata": {},
     "output_type": "execute_result"
    }
   ],
   "source": [
    "# 1D array \n",
    "# Syntax :- \n",
    "#             np.linspace(start , stop , num , endpoint , retstep, dtype)\n",
    "np.linspace(10,20,10)"
   ]
  },
  {
   "cell_type": "code",
   "execution_count": 134,
   "id": "b3d1ebff",
   "metadata": {},
   "outputs": [
    {
     "data": {
      "text/plain": [
       "array([[  1. ,  20.8,  40.6],\n",
       "       [ 60.4,  80.2, 100. ]])"
      ]
     },
     "execution_count": 134,
     "metadata": {},
     "output_type": "execute_result"
    }
   ],
   "source": [
    "np.linspace(1,100,6).reshape(2,3)"
   ]
  },
  {
   "cell_type": "code",
   "execution_count": 135,
   "id": "7221e4c0",
   "metadata": {},
   "outputs": [
    {
     "data": {
      "text/plain": [
       "array([[[ 2.        , 10.08333333],\n",
       "        [18.16666667, 26.25      ]],\n",
       "\n",
       "       [[34.33333333, 42.41666667],\n",
       "        [50.5       , 58.58333333]],\n",
       "\n",
       "       [[66.66666667, 74.75      ],\n",
       "        [82.83333333, 90.91666667]]])"
      ]
     },
     "execution_count": 135,
     "metadata": {},
     "output_type": "execute_result"
    }
   ],
   "source": [
    "np.linspace(2,99,12,endpoint=False).reshape((3,2,2))"
   ]
  },
  {
   "cell_type": "markdown",
   "id": "8339f480",
   "metadata": {},
   "source": [
    "### create ndarry object using full()"
   ]
  },
  {
   "cell_type": "markdown",
   "id": "f28bc707",
   "metadata": {},
   "source": [
    "  This function is used for building a matrix by specifying fill value either 1-D , 2-D , or N-D \n",
    "\n",
    "         Syntax :- \n",
    "                     varname = numpy.full(shape,fill_value , dtype )"
   ]
  },
  {
   "cell_type": "code",
   "execution_count": 136,
   "id": "dcc51a3e",
   "metadata": {},
   "outputs": [
    {
     "data": {
      "text/plain": [
       "array([8, 8, 8, 8, 8])"
      ]
     },
     "execution_count": 136,
     "metadata": {},
     "output_type": "execute_result"
    }
   ],
   "source": [
    "arr = np.full(5,8)\n",
    "arr"
   ]
  },
  {
   "cell_type": "code",
   "execution_count": 137,
   "id": "31fbcef5",
   "metadata": {},
   "outputs": [
    {
     "data": {
      "text/plain": [
       "array([[6, 6, 6],\n",
       "       [6, 6, 6]])"
      ]
     },
     "execution_count": 137,
     "metadata": {},
     "output_type": "execute_result"
    }
   ],
   "source": [
    "# 2D array\n",
    "arr = np.full((2,3),6)\n",
    "arr"
   ]
  },
  {
   "cell_type": "code",
   "execution_count": 138,
   "id": "7c7639e3",
   "metadata": {},
   "outputs": [
    {
     "data": {
      "text/plain": [
       "array([[[3, 3, 3],\n",
       "        [3, 3, 3],\n",
       "        [3, 3, 3]],\n",
       "\n",
       "       [[3, 3, 3],\n",
       "        [3, 3, 3],\n",
       "        [3, 3, 3]],\n",
       "\n",
       "       [[3, 3, 3],\n",
       "        [3, 3, 3],\n",
       "        [3, 3, 3]]])"
      ]
     },
     "execution_count": 138,
     "metadata": {},
     "output_type": "execute_result"
    }
   ],
   "source": [
    "# 3D array\n",
    "arr = np.full((3,3,3),3)\n",
    "arr"
   ]
  },
  {
   "cell_type": "markdown",
   "id": "19ef5036",
   "metadata": {},
   "source": [
    "### Create ndarry object using identity()\n"
   ]
  },
  {
   "cell_type": "markdown",
   "id": "9466fa63",
   "metadata": {},
   "source": [
    "    This function always build identity or unit matrix \n",
    "            syntax :- \n",
    "                     varname = numpy.identity(N,dtype)\n",
    "\n",
    "                     Here N represents N*N matrix "
   ]
  },
  {
   "cell_type": "code",
   "execution_count": 139,
   "id": "c2d30549",
   "metadata": {},
   "outputs": [
    {
     "data": {
      "text/plain": [
       "array([[1., 0., 0., 0., 0.],\n",
       "       [0., 1., 0., 0., 0.],\n",
       "       [0., 0., 1., 0., 0.],\n",
       "       [0., 0., 0., 1., 0.],\n",
       "       [0., 0., 0., 0., 1.]])"
      ]
     },
     "execution_count": 139,
     "metadata": {},
     "output_type": "execute_result"
    }
   ],
   "source": [
    "np.identity(5)"
   ]
  },
  {
   "cell_type": "code",
   "execution_count": 140,
   "id": "7708fed1",
   "metadata": {},
   "outputs": [
    {
     "data": {
      "text/plain": [
       "array([[1., 0., 0.],\n",
       "       [0., 1., 0.],\n",
       "       [0., 0., 1.]])"
      ]
     },
     "execution_count": 140,
     "metadata": {},
     "output_type": "execute_result"
    }
   ],
   "source": [
    "np.identity(3)"
   ]
  },
  {
   "cell_type": "markdown",
   "id": "937d2a45",
   "metadata": {},
   "source": [
    "### create ndarry object using eye()"
   ]
  },
  {
   "cell_type": "markdown",
   "id": "558733e4",
   "metadata": {},
   "source": [
    "   The eye() function is used to create a 2-D array with ones on the diagonal and zeros elsewhere.\n",
    "   \n",
    "          Syntax :- \n",
    "                       numpy.eye(N, M= None , k=0, dtype)\n",
    "                       N = number of rows in the output\n",
    "                       M = number of columns in the output . It None defaults to N\n",
    "                       K = Index of the diagonal : 0 (the default) refers to the main diagonal , a positive value refers to an upper main diagonal , and a negative value to a lower diagonal  "
   ]
  },
  {
   "cell_type": "code",
   "execution_count": 141,
   "id": "2593d692",
   "metadata": {},
   "outputs": [
    {
     "data": {
      "text/plain": [
       "array([[1., 0., 0., 0., 0.],\n",
       "       [0., 1., 0., 0., 0.],\n",
       "       [0., 0., 1., 0., 0.],\n",
       "       [0., 0., 0., 1., 0.],\n",
       "       [0., 0., 0., 0., 1.]])"
      ]
     },
     "execution_count": 141,
     "metadata": {},
     "output_type": "execute_result"
    }
   ],
   "source": [
    "np.eye(5)"
   ]
  },
  {
   "cell_type": "code",
   "execution_count": 142,
   "id": "81f40568",
   "metadata": {},
   "outputs": [
    {
     "data": {
      "text/plain": [
       "array([[1., 0., 0., 0., 0., 0.],\n",
       "       [0., 1., 0., 0., 0., 0.],\n",
       "       [0., 0., 1., 0., 0., 0.],\n",
       "       [0., 0., 0., 1., 0., 0.],\n",
       "       [0., 0., 0., 0., 1., 0.]])"
      ]
     },
     "execution_count": 142,
     "metadata": {},
     "output_type": "execute_result"
    }
   ],
   "source": [
    "np.eye(5,6)"
   ]
  },
  {
   "cell_type": "code",
   "execution_count": 143,
   "id": "a19bc7f3",
   "metadata": {},
   "outputs": [
    {
     "data": {
      "text/plain": [
       "array([[0., 0., 1., 0., 0., 0.],\n",
       "       [0., 0., 0., 1., 0., 0.],\n",
       "       [0., 0., 0., 0., 1., 0.],\n",
       "       [0., 0., 0., 0., 0., 1.],\n",
       "       [0., 0., 0., 0., 0., 0.]])"
      ]
     },
     "execution_count": 143,
     "metadata": {},
     "output_type": "execute_result"
    }
   ],
   "source": [
    "np.eye(5,6,2)"
   ]
  },
  {
   "cell_type": "code",
   "execution_count": 144,
   "id": "f1bcbdae",
   "metadata": {},
   "outputs": [
    {
     "data": {
      "text/plain": [
       "array([[0., 0., 0., 0., 0., 0.],\n",
       "       [0., 0., 0., 0., 0., 0.],\n",
       "       [1., 0., 0., 0., 0., 0.],\n",
       "       [0., 1., 0., 0., 0., 0.],\n",
       "       [0., 0., 1., 0., 0., 0.]])"
      ]
     },
     "execution_count": 144,
     "metadata": {},
     "output_type": "execute_result"
    }
   ],
   "source": [
    "np.eye(5,6,-2)"
   ]
  },
  {
   "cell_type": "code",
   "execution_count": 145,
   "id": "176909cd",
   "metadata": {},
   "outputs": [
    {
     "data": {
      "text/plain": [
       "array([[0., 1., 0., 0., 0.],\n",
       "       [0., 0., 1., 0., 0.],\n",
       "       [0., 0., 0., 1., 0.],\n",
       "       [0., 0., 0., 0., 1.],\n",
       "       [0., 0., 0., 0., 0.]])"
      ]
     },
     "execution_count": 145,
     "metadata": {},
     "output_type": "execute_result"
    }
   ],
   "source": [
    "np.eye(5,k=1)"
   ]
  },
  {
   "cell_type": "markdown",
   "id": "4d2e26e2",
   "metadata": {},
   "source": [
    "### Create ndarray object using hstack()"
   ]
  },
  {
   "cell_type": "markdown",
   "id": "6c486a4a",
   "metadata": {},
   "source": [
    " Syntax :-    Varname :- numpy.hstack((ndaaryobj1),(ndarrayobj2)) \n",
    "\n",
    " the function  numpy.hstack(tup) takes arguments as tuple which include matrix's/arrays horizontally which have the same number of rows . The hstack returns an ndarray \n",
    "              "
   ]
  },
  {
   "cell_type": "code",
   "execution_count": 146,
   "id": "ee131915",
   "metadata": {},
   "outputs": [
    {
     "data": {
      "text/plain": [
       "array([ 1,  2,  3,  4,  5,  6,  7,  8,  9, 10])"
      ]
     },
     "execution_count": 146,
     "metadata": {},
     "output_type": "execute_result"
    }
   ],
   "source": [
    "arr1 = [1,2,3,4,5]\n",
    "arr2 = [6,7,8,9,10]\n",
    "np.hstack((arr1,arr2))"
   ]
  },
  {
   "cell_type": "code",
   "execution_count": 147,
   "id": "cbeaa5d5",
   "metadata": {},
   "outputs": [
    {
     "name": "stdout",
     "output_type": "stream",
     "text": [
      "array 1 :- \n",
      " [[0 1 2 3 4]\n",
      " [5 6 7 8 9]]\n",
      "array 2 :- \n",
      " [[10 11 12 13 14]\n",
      " [15 16 17 18 19]]\n",
      "After hstack :- \n",
      " [[ 0  1  2  3  4 10 11 12 13 14]\n",
      " [ 5  6  7  8  9 15 16 17 18 19]]\n"
     ]
    }
   ],
   "source": [
    "arr1 = np.arange(10).reshape(2,5)\n",
    "arr2 = np.arange(10,20).reshape(2,5)\n",
    "print(\"array 1 :- \\n\",arr1)\n",
    "print(\"array 2 :- \\n\",arr2)\n",
    "print(\"After hstack :- \\n\", np.hstack((arr1,arr2)))"
   ]
  },
  {
   "cell_type": "code",
   "execution_count": 148,
   "id": "8919a3fb",
   "metadata": {},
   "outputs": [
    {
     "name": "stdout",
     "output_type": "stream",
     "text": [
      "array 1 :- \n",
      " [[0 1 2 3 4]\n",
      " [5 6 7 8 9]]\n",
      "array 2 :- \n",
      " [[10 11 12 13 14]\n",
      " [15 16 17 18 19]]\n",
      "array 3 :-\n",
      " [[20 21 22 23 24]\n",
      " [25 26 27 28 29]]\n",
      "After hstack :- \n",
      " [[ 0  1  2  3  4 10 11 12 13 14 20 21 22 23 24]\n",
      " [ 5  6  7  8  9 15 16 17 18 19 25 26 27 28 29]]\n"
     ]
    }
   ],
   "source": [
    "arr1 = np.arange(10).reshape(2,5)\n",
    "arr2 = np.arange(10,20).reshape(2,5)\n",
    "arr3 = np.arange(20,30).reshape(2,5)\n",
    "print(\"array 1 :- \\n\",arr1)\n",
    "print(\"array 2 :- \\n\",arr2)\n",
    "print(\"array 3 :-\\n\",arr3)\n",
    "print(\"After hstack :- \\n\", np.hstack((arr1,arr2,arr3)))"
   ]
  },
  {
   "cell_type": "markdown",
   "id": "8a193677",
   "metadata": {},
   "source": [
    "### Create ndarray object using vsatck()"
   ]
  },
  {
   "cell_type": "markdown",
   "id": "e9ee134f",
   "metadata": {},
   "source": [
    "   Synatx :-  numpy.vstack((ndarray1,ndarray2,__ , ndarrayn))\n",
    "\n",
    "   The function numpy.vstack(tup) takes arguments as tuple which include matrix,s/array . The vstack function combines the two or  more matrix / arrays . vertically which have the same number of columns . The vstack returns an ndarray"
   ]
  },
  {
   "cell_type": "code",
   "execution_count": 149,
   "id": "c78a2b47",
   "metadata": {},
   "outputs": [
    {
     "data": {
      "text/plain": [
       "array([[ 1,  2,  3,  4,  5],\n",
       "       [ 6,  7,  8,  9, 10]])"
      ]
     },
     "execution_count": 149,
     "metadata": {},
     "output_type": "execute_result"
    }
   ],
   "source": [
    "arr1 = [1,2,3,4,5]\n",
    "arr2 = [6,7,8,9,10]\n",
    "np.vstack((arr1,arr2))"
   ]
  },
  {
   "cell_type": "code",
   "execution_count": 150,
   "id": "4fca9da5",
   "metadata": {},
   "outputs": [
    {
     "name": "stdout",
     "output_type": "stream",
     "text": [
      "array 1 :- \n",
      " [[0 1 2 3 4]\n",
      " [5 6 7 8 9]]\n",
      "array 2 :- \n",
      " [[10 11 12 13 14]\n",
      " [15 16 17 18 19]]\n",
      "After vstack :- \n",
      " [[ 0  1  2  3  4]\n",
      " [ 5  6  7  8  9]\n",
      " [10 11 12 13 14]\n",
      " [15 16 17 18 19]]\n"
     ]
    }
   ],
   "source": [
    "arr1 = np.arange(10).reshape(2,5)\n",
    "arr2 = np.arange(10,20).reshape(2,5)\n",
    "print(\"array 1 :- \\n\",arr1)\n",
    "print(\"array 2 :- \\n\",arr2)\n",
    "print(\"After vstack :- \\n\", np.vstack((arr1,arr2)))"
   ]
  },
  {
   "cell_type": "code",
   "execution_count": 151,
   "id": "5b5761f8",
   "metadata": {},
   "outputs": [
    {
     "name": "stdout",
     "output_type": "stream",
     "text": [
      "array 1 :- \n",
      " [[0 1 2 3 4]\n",
      " [5 6 7 8 9]]\n",
      "array 2 :- \n",
      " [[10 11 12 13 14]\n",
      " [15 16 17 18 19]]\n",
      "array 3 :-\n",
      " [[20 21 22 23 24]\n",
      " [25 26 27 28 29]]\n",
      "After vstack :- \n",
      " [[ 0  1  2  3  4]\n",
      " [ 5  6  7  8  9]\n",
      " [10 11 12 13 14]\n",
      " [15 16 17 18 19]\n",
      " [20 21 22 23 24]\n",
      " [25 26 27 28 29]]\n"
     ]
    }
   ],
   "source": [
    "arr1 = np.arange(10).reshape(2,5)\n",
    "arr2 = np.arange(10,20).reshape(2,5)\n",
    "arr3 = np.arange(20,30).reshape(2,5)\n",
    "print(\"array 1 :- \\n\",arr1)\n",
    "print(\"array 2 :- \\n\",arr2)\n",
    "print(\"array 3 :-\\n\",arr3)\n",
    "print(\"After vstack :- \\n\", np.vstack((arr1,arr2,arr3)))"
   ]
  },
  {
   "cell_type": "markdown",
   "id": "f8aef0be",
   "metadata": {},
   "source": [
    "## Random module in numpy "
   ]
  },
  {
   "cell_type": "markdown",
   "id": "d413f9c9",
   "metadata": {},
   "source": [
    "The purpose of random module is that \"To generate random values for various applications development like otps , captcha code etcs."
   ]
  },
  {
   "cell_type": "markdown",
   "id": "2b5e5868",
   "metadata": {},
   "source": [
    "    Random module of numpy contains the following functions \n",
    "                            \n",
    "                               1. randint()\n",
    "                               2. rand()\n",
    "                               3. uniform()\n",
    "                               4. randn()\n",
    "                               5. normal()\n",
    "                               6. shuffle()\n",
    "                               7. choice()"
   ]
  },
  {
   "cell_type": "code",
   "execution_count": 152,
   "id": "dceb89e3",
   "metadata": {},
   "outputs": [],
   "source": [
    "import random "
   ]
  },
  {
   "cell_type": "code",
   "execution_count": 153,
   "id": "e696810f",
   "metadata": {},
   "outputs": [
    {
     "data": {
      "text/plain": [
       "3"
      ]
     },
     "execution_count": 153,
     "metadata": {},
     "output_type": "execute_result"
    }
   ],
   "source": [
    "np.random.randint(10)"
   ]
  },
  {
   "cell_type": "code",
   "execution_count": 154,
   "id": "bddab7e8",
   "metadata": {},
   "outputs": [
    {
     "data": {
      "text/plain": [
       "16"
      ]
     },
     "execution_count": 154,
     "metadata": {},
     "output_type": "execute_result"
    }
   ],
   "source": [
    "np.random.randint(10,20)"
   ]
  },
  {
   "cell_type": "code",
   "execution_count": 155,
   "id": "0f025f9b",
   "metadata": {},
   "outputs": [
    {
     "data": {
      "text/plain": [
       "array([ 98, 146, 119,  79, 123], dtype=int32)"
      ]
     },
     "execution_count": 155,
     "metadata": {},
     "output_type": "execute_result"
    }
   ],
   "source": [
    "np.random.randint(10,200,5)"
   ]
  },
  {
   "cell_type": "code",
   "execution_count": 156,
   "id": "729eb5c5",
   "metadata": {},
   "outputs": [
    {
     "data": {
      "text/plain": [
       "array([0.120084  , 0.3986895 , 0.35870939, 0.99016718, 0.79624988,\n",
       "       0.11459595, 0.91918504, 0.62199564, 0.52017279, 0.71753498])"
      ]
     },
     "execution_count": 156,
     "metadata": {},
     "output_type": "execute_result"
    }
   ],
   "source": [
    "np.random.rand(10)"
   ]
  },
  {
   "cell_type": "code",
   "execution_count": 157,
   "id": "40eca82f",
   "metadata": {},
   "outputs": [
    {
     "data": {
      "text/plain": [
       "array([[0.37375663, 0.91575292],\n",
       "       [0.71541003, 0.6675974 ],\n",
       "       [0.66296907, 0.20223436]])"
      ]
     },
     "execution_count": 157,
     "metadata": {},
     "output_type": "execute_result"
    }
   ],
   "source": [
    "np.random.rand(3,2)"
   ]
  },
  {
   "cell_type": "code",
   "execution_count": 158,
   "id": "3f5289cc",
   "metadata": {},
   "outputs": [
    {
     "data": {
      "text/plain": [
       "array([[[0.85505233, 0.71787416],\n",
       "        [0.49428133, 0.46577763]],\n",
       "\n",
       "       [[0.87638166, 0.81284134],\n",
       "        [0.81949139, 0.95481682]],\n",
       "\n",
       "       [[0.85041503, 0.04717485],\n",
       "        [0.95123705, 0.93540036]]])"
      ]
     },
     "execution_count": 158,
     "metadata": {},
     "output_type": "execute_result"
    }
   ],
   "source": [
    "np.random.rand(3,2,2)"
   ]
  },
  {
   "cell_type": "code",
   "execution_count": 159,
   "id": "f6b3d086",
   "metadata": {},
   "outputs": [
    {
     "data": {
      "text/plain": [
       "0.061950784999934116"
      ]
     },
     "execution_count": 159,
     "metadata": {},
     "output_type": "execute_result"
    }
   ],
   "source": [
    "np.random.uniform()"
   ]
  },
  {
   "cell_type": "code",
   "execution_count": 160,
   "id": "5164e4e3",
   "metadata": {},
   "outputs": [
    {
     "data": {
      "text/plain": [
       "11.353465959664485"
      ]
     },
     "execution_count": 160,
     "metadata": {},
     "output_type": "execute_result"
    }
   ],
   "source": [
    "np.random.uniform(10,20)"
   ]
  },
  {
   "cell_type": "code",
   "execution_count": 161,
   "id": "aee4e752",
   "metadata": {},
   "outputs": [
    {
     "data": {
      "text/plain": [
       "array([64.72960335, 18.5218209 , 75.85440044, 13.99218464, 50.00137086])"
      ]
     },
     "execution_count": 161,
     "metadata": {},
     "output_type": "execute_result"
    }
   ],
   "source": [
    "np.random.uniform(1,99,5)"
   ]
  },
  {
   "cell_type": "code",
   "execution_count": 162,
   "id": "014677f9",
   "metadata": {},
   "outputs": [
    {
     "data": {
      "text/plain": [
       "array([[[21.10858099, 48.67972219,  6.33500109],\n",
       "        [77.98978757,  2.18782882, 55.25724852],\n",
       "        [34.14270435, 78.89122902,  3.76914213]],\n",
       "\n",
       "       [[63.12443246, 91.63881068, 31.17094577],\n",
       "        [69.32554419, 31.74534778, 94.56320631],\n",
       "        [74.61472734, 71.08111661, 82.35925431]]])"
      ]
     },
     "execution_count": 162,
     "metadata": {},
     "output_type": "execute_result"
    }
   ],
   "source": [
    "np.random.uniform(1,99,(2,3,3))"
   ]
  },
  {
   "cell_type": "code",
   "execution_count": 163,
   "id": "bb93c833",
   "metadata": {},
   "outputs": [
    {
     "data": {
      "text/plain": [
       "-0.5036344500025094"
      ]
     },
     "execution_count": 163,
     "metadata": {},
     "output_type": "execute_result"
    }
   ],
   "source": [
    "np.random.randn()"
   ]
  },
  {
   "cell_type": "code",
   "execution_count": 164,
   "id": "63e062a1",
   "metadata": {},
   "outputs": [
    {
     "data": {
      "text/plain": [
       "array([-1.32793389,  1.3908301 , -0.84899138,  0.65590723, -0.75426325,\n",
       "       -2.10742526, -0.35138188,  0.42590668,  0.82057774,  0.49561758])"
      ]
     },
     "execution_count": 164,
     "metadata": {},
     "output_type": "execute_result"
    }
   ],
   "source": [
    "np.random.randn(10)"
   ]
  },
  {
   "cell_type": "code",
   "execution_count": 165,
   "id": "34fa1e55",
   "metadata": {},
   "outputs": [
    {
     "data": {
      "text/plain": [
       "array([[0.98236283, 0.09370438],\n",
       "       [0.35772553, 0.1204463 ]])"
      ]
     },
     "execution_count": 165,
     "metadata": {},
     "output_type": "execute_result"
    }
   ],
   "source": [
    "np.random.randn(2,2)"
   ]
  },
  {
   "cell_type": "code",
   "execution_count": 166,
   "id": "4dc49104",
   "metadata": {},
   "outputs": [
    {
     "name": "stdout",
     "output_type": "stream",
     "text": [
      "Array 1 :-  [0 1 2 3 4 5 6 7 8 9]\n",
      "after suffling array 1:-  [7 1 4 6 9 0 8 5 2 3]\n"
     ]
    }
   ],
   "source": [
    "arr = np.arange(10)\n",
    "print(\"Array 1 :- \", arr)\n",
    "np.random.shuffle(arr)\n",
    "print(\"after suffling array 1:- \" , arr)"
   ]
  },
  {
   "cell_type": "code",
   "execution_count": 167,
   "id": "32902fd0",
   "metadata": {},
   "outputs": [
    {
     "data": {
      "text/plain": [
       "np.int64(76)"
      ]
     },
     "execution_count": 167,
     "metadata": {},
     "output_type": "execute_result"
    }
   ],
   "source": [
    "arr = np.arange(100)\n",
    "np.random.choice(arr)"
   ]
  },
  {
   "cell_type": "markdown",
   "id": "e5752bee",
   "metadata": {},
   "source": [
    "### Numpy indexing "
   ]
  },
  {
   "cell_type": "code",
   "execution_count": 168,
   "id": "611c63f0",
   "metadata": {},
   "outputs": [
    {
     "data": {
      "text/plain": [
       "array([[[ 1.07396667, -0.96958479, -1.35934037],\n",
       "        [ 0.74923198, -1.79207135, -0.30497551],\n",
       "        [-2.13001893,  0.86876468,  1.45899116]],\n",
       "\n",
       "       [[-0.56495034, -1.71027231,  0.44721542],\n",
       "        [ 0.35708191,  0.09485324,  1.56361173],\n",
       "        [-0.77427629,  0.3168149 ,  0.03481178]],\n",
       "\n",
       "       [[-0.14048956, -0.26668673,  0.67683555],\n",
       "        [-0.88221052, -0.38967208,  1.37806807],\n",
       "        [ 0.84021937, -0.26940206,  0.40943935]]])"
      ]
     },
     "execution_count": 168,
     "metadata": {},
     "output_type": "execute_result"
    }
   ],
   "source": [
    "arr = np.random.randn(3,3,3)\n",
    "arr"
   ]
  },
  {
   "cell_type": "code",
   "execution_count": 169,
   "id": "0ca9d0e7",
   "metadata": {},
   "outputs": [
    {
     "data": {
      "text/plain": [
       "array([[-0.56495034, -1.71027231,  0.44721542],\n",
       "       [ 0.35708191,  0.09485324,  1.56361173],\n",
       "       [-0.77427629,  0.3168149 ,  0.03481178]])"
      ]
     },
     "execution_count": 169,
     "metadata": {},
     "output_type": "execute_result"
    }
   ],
   "source": [
    "arr[1]\n"
   ]
  },
  {
   "cell_type": "code",
   "execution_count": 170,
   "id": "15fd1f6d",
   "metadata": {},
   "outputs": [
    {
     "data": {
      "text/plain": [
       "array([[ 1.07396667, -0.96958479, -1.35934037],\n",
       "       [ 0.74923198, -1.79207135, -0.30497551],\n",
       "       [-2.13001893,  0.86876468,  1.45899116]])"
      ]
     },
     "execution_count": 170,
     "metadata": {},
     "output_type": "execute_result"
    }
   ],
   "source": [
    "arr[0]"
   ]
  },
  {
   "cell_type": "code",
   "execution_count": 171,
   "id": "da7a1574",
   "metadata": {},
   "outputs": [
    {
     "data": {
      "text/plain": [
       "array([ 0.74923198, -1.79207135, -0.30497551])"
      ]
     },
     "execution_count": 171,
     "metadata": {},
     "output_type": "execute_result"
    }
   ],
   "source": [
    "arr[0][1]"
   ]
  },
  {
   "cell_type": "code",
   "execution_count": 172,
   "id": "e11d39f2",
   "metadata": {},
   "outputs": [
    {
     "data": {
      "text/plain": [
       "np.float64(-1.7920713508246053)"
      ]
     },
     "execution_count": 172,
     "metadata": {},
     "output_type": "execute_result"
    }
   ],
   "source": [
    "arr[0][1][1]"
   ]
  },
  {
   "cell_type": "code",
   "execution_count": 173,
   "id": "22efad6c",
   "metadata": {},
   "outputs": [
    {
     "data": {
      "text/plain": [
       "np.float64(0.09485324348525151)"
      ]
     },
     "execution_count": 173,
     "metadata": {},
     "output_type": "execute_result"
    }
   ],
   "source": [
    "arr[1,1,1]"
   ]
  },
  {
   "cell_type": "code",
   "execution_count": 174,
   "id": "cbd69f99",
   "metadata": {},
   "outputs": [
    {
     "data": {
      "text/plain": [
       "array([[-0.56495034, -1.71027231,  0.44721542],\n",
       "       [ 0.35708191,  0.09485324,  1.56361173],\n",
       "       [-0.77427629,  0.3168149 ,  0.03481178]])"
      ]
     },
     "execution_count": 174,
     "metadata": {},
     "output_type": "execute_result"
    }
   ],
   "source": [
    "arr[1]"
   ]
  },
  {
   "cell_type": "markdown",
   "id": "6d09e290",
   "metadata": {},
   "source": [
    "### numpy slicing "
   ]
  },
  {
   "cell_type": "code",
   "execution_count": 175,
   "id": "8bd94b01",
   "metadata": {},
   "outputs": [],
   "source": [
    "arr2 = np.arange(30).reshape((3,2,5))"
   ]
  },
  {
   "cell_type": "code",
   "execution_count": 176,
   "id": "b7c56495",
   "metadata": {},
   "outputs": [
    {
     "data": {
      "text/plain": [
       "array([[[ 0,  1,  2,  3,  4],\n",
       "        [ 5,  6,  7,  8,  9]],\n",
       "\n",
       "       [[10, 11, 12, 13, 14],\n",
       "        [15, 16, 17, 18, 19]],\n",
       "\n",
       "       [[20, 21, 22, 23, 24],\n",
       "        [25, 26, 27, 28, 29]]])"
      ]
     },
     "execution_count": 176,
     "metadata": {},
     "output_type": "execute_result"
    }
   ],
   "source": [
    "arr2"
   ]
  },
  {
   "cell_type": "code",
   "execution_count": 177,
   "id": "9c3ea2ff",
   "metadata": {},
   "outputs": [
    {
     "data": {
      "text/plain": [
       "array([[10, 11, 12, 13, 14],\n",
       "       [15, 16, 17, 18, 19]])"
      ]
     },
     "execution_count": 177,
     "metadata": {},
     "output_type": "execute_result"
    }
   ],
   "source": [
    "arr2[1]"
   ]
  },
  {
   "cell_type": "code",
   "execution_count": 178,
   "id": "47bd1f91",
   "metadata": {},
   "outputs": [
    {
     "data": {
      "text/plain": [
       "array([10, 11, 12, 13, 14])"
      ]
     },
     "execution_count": 178,
     "metadata": {},
     "output_type": "execute_result"
    }
   ],
   "source": [
    "arr2[1][0]"
   ]
  },
  {
   "cell_type": "code",
   "execution_count": 179,
   "id": "3960f41b",
   "metadata": {},
   "outputs": [
    {
     "data": {
      "text/plain": [
       "array([10, 11])"
      ]
     },
     "execution_count": 179,
     "metadata": {},
     "output_type": "execute_result"
    }
   ],
   "source": [
    "arr2[1][0][0:2]"
   ]
  },
  {
   "cell_type": "code",
   "execution_count": 180,
   "id": "04bc297a",
   "metadata": {},
   "outputs": [
    {
     "data": {
      "text/plain": [
       "array([[[ 0,  1,  2,  3,  4],\n",
       "        [ 5,  6,  7,  8,  9]],\n",
       "\n",
       "       [[10, 11, 12, 13, 14],\n",
       "        [15, 16, 17, 18, 19]],\n",
       "\n",
       "       [[20, 21, 22, 23, 24],\n",
       "        [25, 26, 27, 28, 29]]])"
      ]
     },
     "execution_count": 180,
     "metadata": {},
     "output_type": "execute_result"
    }
   ],
   "source": [
    "arr2"
   ]
  },
  {
   "cell_type": "code",
   "execution_count": 181,
   "id": "ace41c2e",
   "metadata": {},
   "outputs": [
    {
     "data": {
      "text/plain": [
       "array([[10, 11, 12, 13, 14],\n",
       "       [15, 16, 17, 18, 19]])"
      ]
     },
     "execution_count": 181,
     "metadata": {},
     "output_type": "execute_result"
    }
   ],
   "source": [
    "arr2[1]"
   ]
  },
  {
   "cell_type": "code",
   "execution_count": 182,
   "id": "a345f723",
   "metadata": {},
   "outputs": [
    {
     "data": {
      "text/plain": [
       "array([[13, 14],\n",
       "       [18, 19]])"
      ]
     },
     "execution_count": 182,
     "metadata": {},
     "output_type": "execute_result"
    }
   ],
   "source": [
    "arr2[1][0:,3:]"
   ]
  },
  {
   "cell_type": "code",
   "execution_count": 183,
   "id": "f88e7252",
   "metadata": {},
   "outputs": [
    {
     "data": {
      "text/plain": [
       "array([[[ 0,  1,  2,  3,  4],\n",
       "        [ 5,  6,  7,  8,  9]],\n",
       "\n",
       "       [[10, 11, 12, 13, 14],\n",
       "        [15, 16, 17, 18, 19]],\n",
       "\n",
       "       [[20, 21, 22, 23, 24],\n",
       "        [25, 26, 27, 28, 29]]])"
      ]
     },
     "execution_count": 183,
     "metadata": {},
     "output_type": "execute_result"
    }
   ],
   "source": [
    "arr2"
   ]
  },
  {
   "cell_type": "code",
   "execution_count": 184,
   "id": "4857e4b0",
   "metadata": {},
   "outputs": [
    {
     "data": {
      "text/plain": [
       "array([[[6, 7, 8]]])"
      ]
     },
     "execution_count": 184,
     "metadata": {},
     "output_type": "execute_result"
    }
   ],
   "source": [
    "arr2[0:1,1:,1:4]"
   ]
  },
  {
   "cell_type": "markdown",
   "id": "f034a71f",
   "metadata": {},
   "source": [
    "### Advance Indexing and slicing "
   ]
  },
  {
   "cell_type": "code",
   "execution_count": 185,
   "id": "555087f9",
   "metadata": {},
   "outputs": [],
   "source": [
    "arr = np.array([10,20,30,40,50,60])"
   ]
  },
  {
   "cell_type": "code",
   "execution_count": 186,
   "id": "f6cb4dba",
   "metadata": {},
   "outputs": [
    {
     "data": {
      "text/plain": [
       "array([10, 20, 30, 40, 50, 60])"
      ]
     },
     "execution_count": 186,
     "metadata": {},
     "output_type": "execute_result"
    }
   ],
   "source": [
    "arr"
   ]
  },
  {
   "cell_type": "code",
   "execution_count": 187,
   "id": "75967d3b",
   "metadata": {},
   "outputs": [
    {
     "data": {
      "text/plain": [
       "array([20, 40, 50])"
      ]
     },
     "execution_count": 187,
     "metadata": {},
     "output_type": "execute_result"
    }
   ],
   "source": [
    "rind = [1,3,4]\n",
    "arr[rind]"
   ]
  },
  {
   "cell_type": "code",
   "execution_count": 188,
   "id": "1bb47a1e",
   "metadata": {},
   "outputs": [
    {
     "data": {
      "text/plain": [
       "array([[0, 1, 2, 3, 4],\n",
       "       [5, 6, 7, 8, 9]])"
      ]
     },
     "execution_count": 188,
     "metadata": {},
     "output_type": "execute_result"
    }
   ],
   "source": [
    "arr = np.arange(10).reshape(2,5)\n",
    "arr"
   ]
  },
  {
   "cell_type": "code",
   "execution_count": 189,
   "id": "3f4b966c",
   "metadata": {},
   "outputs": [
    {
     "data": {
      "text/plain": [
       "array([2, 8])"
      ]
     },
     "execution_count": 189,
     "metadata": {},
     "output_type": "execute_result"
    }
   ],
   "source": [
    "rind = [0,1]\n",
    "cind = [2,3]\n",
    "arr[rind,cind]"
   ]
  },
  {
   "cell_type": "code",
   "execution_count": 190,
   "id": "e4916121",
   "metadata": {},
   "outputs": [
    {
     "data": {
      "text/plain": [
       "array([1, 2, 6, 7])"
      ]
     },
     "execution_count": 190,
     "metadata": {},
     "output_type": "execute_result"
    }
   ],
   "source": [
    "rind = [0,0,1,1]\n",
    "cind = [1,2,1,2]\n",
    "arr[rind,cind]"
   ]
  },
  {
   "cell_type": "code",
   "execution_count": 191,
   "id": "15e8d0e3",
   "metadata": {},
   "outputs": [
    {
     "data": {
      "text/plain": [
       "array([[[ 0,  1,  2,  3,  4],\n",
       "        [ 5,  6,  7,  8,  9]],\n",
       "\n",
       "       [[10, 11, 12, 13, 14],\n",
       "        [15, 16, 17, 18, 19]],\n",
       "\n",
       "       [[20, 21, 22, 23, 24],\n",
       "        [25, 26, 27, 28, 29]]])"
      ]
     },
     "execution_count": 191,
     "metadata": {},
     "output_type": "execute_result"
    }
   ],
   "source": [
    "# 3D array \n",
    "arr3 = np.arange(30).reshape(3,2,5)\n",
    "arr3"
   ]
  },
  {
   "cell_type": "code",
   "execution_count": 192,
   "id": "1b07735f",
   "metadata": {},
   "outputs": [
    {
     "data": {
      "text/plain": [
       "array([ 5, 20])"
      ]
     },
     "execution_count": 192,
     "metadata": {},
     "output_type": "execute_result"
    }
   ],
   "source": [
    "mind = [0,2]\n",
    "rind = [1,0]\n",
    "cind = [0,0]\n",
    "arr3[mind,rind,cind]"
   ]
  },
  {
   "cell_type": "markdown",
   "id": "1a086015",
   "metadata": {},
   "source": [
    "### Filtering numpy array"
   ]
  },
  {
   "cell_type": "markdown",
   "id": "034e7eeb",
   "metadata": {},
   "source": [
    "For filtering the data , we have two functions . They are \n",
    "    \n",
    "                                     1. where()\n",
    "                                     2. extract()"
   ]
  },
  {
   "cell_type": "markdown",
   "id": "75b6583e",
   "metadata": {},
   "source": [
    "## where()"
   ]
  },
  {
   "cell_type": "markdown",
   "id": "b43fd21d",
   "metadata": {},
   "source": [
    "The where() function allows us to filter an array based on a given condition . \n",
    " \n",
    "     Syntax :-     np.where(condition , x, y)"
   ]
  },
  {
   "cell_type": "code",
   "execution_count": null,
   "id": "32958721",
   "metadata": {},
   "outputs": [],
   "source": []
  }
 ],
 "metadata": {
  "kernelspec": {
   "display_name": "Python 3",
   "language": "python",
   "name": "python3"
  },
  "language_info": {
   "codemirror_mode": {
    "name": "ipython",
    "version": 3
   },
   "file_extension": ".py",
   "mimetype": "text/x-python",
   "name": "python",
   "nbconvert_exporter": "python",
   "pygments_lexer": "ipython3",
   "version": "3.13.0"
  }
 },
 "nbformat": 4,
 "nbformat_minor": 5
}
