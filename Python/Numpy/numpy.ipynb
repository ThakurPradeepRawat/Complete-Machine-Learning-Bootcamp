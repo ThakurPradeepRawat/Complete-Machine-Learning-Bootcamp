{
 "cells": [
  {
   "cell_type": "markdown",
   "id": "12edc993",
   "metadata": {},
   "source": [
    "# NUMPY\n"
   ]
  },
  {
   "cell_type": "markdown",
   "id": "2f30e055",
   "metadata": {},
   "source": [
    "Numpy is a fundamental library for scientific computing in python . It provides supports for arrays and matrices, along with a collection of mathematical functions to operate on these data structures."
   ]
  },
  {
   "cell_type": "code",
   "execution_count": 1,
   "id": "df29f637",
   "metadata": {},
   "outputs": [],
   "source": [
    "import numpy as np"
   ]
  },
  {
   "cell_type": "markdown",
   "id": "670f4b68",
   "metadata": {},
   "source": [
    "##  Number of approaches to create an object of ndarray"
   ]
  },
  {
   "cell_type": "markdown",
   "id": "77918336",
   "metadata": {},
   "source": [
    "To create an object of ndarray . We have many approaches "
   ]
  },
  {
   "cell_type": "markdown",
   "id": "3ff117fb",
   "metadata": {},
   "source": [
    "                    1. array()\n",
    "                    2. arange()\n",
    "                    3. zeros()\n",
    "                    4. ones()\n",
    "                    5. full()\n",
    "                    6. linspace()\n",
    "                    7. eye()\n",
    "                    8. identity()\n",
    "                    9. hsatck()\n",
    "                    10. vstack()"
   ]
  },
  {
   "cell_type": "markdown",
   "id": "d189e959",
   "metadata": {},
   "source": [
    "## ndarray object attributes "
   ]
  },
  {
   "cell_type": "markdown",
   "id": "391e798d",
   "metadata": {},
   "source": [
    " Here  ndarray object contains the following attributes \n",
    " \n",
    "                  1. dtype\n",
    "                  2. ndim \n",
    "                  3. shape\n",
    "                  4. size\n",
    "                  5. itemsize"
   ]
  },
  {
   "cell_type": "markdown",
   "id": "aece8892",
   "metadata": {},
   "source": [
    "### create ndarry object using array()"
   ]
  },
  {
   "cell_type": "code",
   "execution_count": 2,
   "id": "20d98543",
   "metadata": {},
   "outputs": [
    {
     "name": "stdout",
     "output_type": "stream",
     "text": [
      "**************************************************\n",
      "Array 1:-  [1 2 3 4 5]\n",
      "Data Type of array 1:-  int64\n",
      "Dimension of array 1:-  1\n",
      "Size of array 1 :-  5\n",
      "Item size of array1 :- 8\n",
      "**************************************************\n"
     ]
    }
   ],
   "source": [
    "# create 1D array \n",
    "arr1 = np.array([1,2,3,4,5])\n",
    "print(\"*\"*50)\n",
    "print(\"Array 1:- \" , arr1)\n",
    "print(\"Data Type of array 1:- \" , arr1.dtype) \n",
    "print(\"Dimension of array 1:- \", arr1.ndim )\n",
    "print(\"Size of array 1 :- \", arr1.size)\n",
    "print(\"Item size of array1 :-\" , arr1.itemsize)\n",
    "print(\"*\"*50)"
   ]
  },
  {
   "cell_type": "code",
   "execution_count": 3,
   "id": "12f752f7",
   "metadata": {},
   "outputs": [
    {
     "name": "stdout",
     "output_type": "stream",
     "text": [
      "**************************************************\n",
      "Array 1:- \n",
      "  [[ 1  2  3  4  5]\n",
      " [ 6  7  8  9 10]]\n",
      "Data Type of array 1:-  int64\n",
      "Dimension of array 1:-  2\n",
      "Size of array 1 :-  10\n",
      "Item size of array1 :- 8\n",
      "**************************************************\n"
     ]
    }
   ],
   "source": [
    "# create 2D array \n",
    "arr1 = np.array([[1,2,3,4,5],[6,7,8,9,10]])\n",
    "print(\"*\"*50)\n",
    "print(\"Array 1:- \\n \" , arr1)\n",
    "print(\"Data Type of array 1:- \" , arr1.dtype) \n",
    "print(\"Dimension of array 1:- \", arr1.ndim )\n",
    "print(\"Size of array 1 :- \", arr1.size)\n",
    "print(\"Item size of array1 :-\" , arr1.itemsize)\n",
    "print(\"*\"*50)"
   ]
  },
  {
   "cell_type": "code",
   "execution_count": 4,
   "id": "f67c9f70",
   "metadata": {},
   "outputs": [
    {
     "name": "stdout",
     "output_type": "stream",
     "text": [
      "**************************************************\n",
      "Array 1:- \n",
      "  [[[  1   2   3   4   5]\n",
      "  [  6   7   8   9  10]]\n",
      "\n",
      " [[ 10  20  30  40  50]\n",
      "  [ 60  70  80  90 100]]]\n",
      "Data Type of array 1:-  int64\n",
      "Dimension of array 1:-  3\n",
      "Size of array 1 :-  20\n",
      "Item size of array1 :- 8\n",
      "**************************************************\n"
     ]
    }
   ],
   "source": [
    "# create 3D array \n",
    "arr1 = np.array([[[1,2,3,4,5],[6,7,8,9,10]] , [[10,20,30,40,50],[60,70,80,90,100]]])\n",
    "print(\"*\"*50)\n",
    "print(\"Array 1:- \\n \" , arr1)\n",
    "print(\"Data Type of array 1:- \" , arr1.dtype) \n",
    "print(\"Dimension of array 1:- \", arr1.ndim )\n",
    "print(\"Size of array 1 :- \", arr1.size)\n",
    "print(\"Item size of array1 :-\" , arr1.itemsize)\n",
    "print(\"*\"*50)"
   ]
  },
  {
   "cell_type": "markdown",
   "id": "4f269d82",
   "metadata": {},
   "source": [
    "### Create ndarray object using arange()"
   ]
  },
  {
   "cell_type": "code",
   "execution_count": 5,
   "id": "f69d0194",
   "metadata": {},
   "outputs": [
    {
     "name": "stdout",
     "output_type": "stream",
     "text": [
      "**************************************************\n",
      "Array 2:- \n",
      "  [0 1 2 3 4 5 6 7 8 9]\n",
      "Data Type of array 2:-  int64\n",
      "Dimension of array 2:-  1\n",
      "Size of array 2 :-  10\n",
      "Item size of array 2 :- 8\n",
      "**************************************************\n"
     ]
    }
   ],
   "source": [
    "# create 1d array \n",
    "arr2 = np.arange(10)\n",
    "print(\"*\"*50)\n",
    "print(\"Array 2:- \\n \" , arr2)\n",
    "print(\"Data Type of array 2:- \" , arr2.dtype) \n",
    "print(\"Dimension of array 2:- \", arr2.ndim )\n",
    "print(\"Size of array 2 :- \", arr2.size)\n",
    "print(\"Item size of array 2 :-\" , arr2.itemsize)\n",
    "print(\"*\"*50)"
   ]
  },
  {
   "cell_type": "code",
   "execution_count": 6,
   "id": "a4edbcad",
   "metadata": {},
   "outputs": [
    {
     "name": "stdout",
     "output_type": "stream",
     "text": [
      "**************************************************\n",
      "Array 2:- \n",
      "  [[0 1 2 3 4]\n",
      " [5 6 7 8 9]]\n",
      "Data Type of array 2:-  int64\n",
      "Dimension of array 2:-  2\n",
      "Size of array 2 :-  10\n",
      "Item size of array 2 :- 8\n",
      "**************************************************\n"
     ]
    }
   ],
   "source": [
    "# create 2d array \n",
    "arr2 = np.arange(10).reshape(2,5)\n",
    "print(\"*\"*50)\n",
    "print(\"Array 2:- \\n \" , arr2)\n",
    "print(\"Data Type of array 2:- \" , arr2.dtype) \n",
    "print(\"Dimension of array 2:- \", arr2.ndim )\n",
    "print(\"Size of array 2 :- \", arr2.size)\n",
    "print(\"Item size of array 2 :-\" , arr2.itemsize)\n",
    "print(\"*\"*50)"
   ]
  },
  {
   "cell_type": "code",
   "execution_count": 7,
   "id": "ba6f5e36",
   "metadata": {},
   "outputs": [
    {
     "name": "stdout",
     "output_type": "stream",
     "text": [
      "**************************************************\n",
      "Array 2:- \n",
      "  [[[10 13 16 19 22]\n",
      "  [25 28 31 34 37]]\n",
      "\n",
      " [[40 43 46 49 52]\n",
      "  [55 58 61 64 67]]\n",
      "\n",
      " [[70 73 76 79 82]\n",
      "  [85 88 91 94 97]]]\n",
      "Data Type of array 2:-  int64\n",
      "Dimension of array 2:-  3\n",
      "Size of array 2 :-  30\n",
      "Item size of array 2 :- 8\n",
      "**************************************************\n"
     ]
    }
   ],
   "source": [
    "# create 3d array \n",
    "arr2 = np.arange(10,100,3).reshape(3,2,5)\n",
    "print(\"*\"*50)\n",
    "print(\"Array 2:- \\n \" , arr2)\n",
    "print(\"Data Type of array 2:- \" , arr2.dtype) \n",
    "print(\"Dimension of array 2:- \", arr2.ndim )\n",
    "print(\"Size of array 2 :- \", arr2.size)\n",
    "print(\"Item size of array 2 :-\" , arr2.itemsize)\n",
    "print(\"*\"*50)"
   ]
  },
  {
   "cell_type": "markdown",
   "id": "c994472a",
   "metadata": {},
   "source": [
    "### Create ndarray object using zeros()"
   ]
  },
  {
   "cell_type": "code",
   "execution_count": 8,
   "id": "24db80f6",
   "metadata": {},
   "outputs": [
    {
     "data": {
      "text/plain": [
       "array([0., 0., 0., 0., 0.])"
      ]
     },
     "execution_count": 8,
     "metadata": {},
     "output_type": "execute_result"
    }
   ],
   "source": [
    "# create 1D array \n",
    "np.zeros(5)"
   ]
  },
  {
   "cell_type": "code",
   "execution_count": 9,
   "id": "6729f5f3",
   "metadata": {},
   "outputs": [
    {
     "data": {
      "text/plain": [
       "array([[0., 0.],\n",
       "       [0., 0.]])"
      ]
     },
     "execution_count": 9,
     "metadata": {},
     "output_type": "execute_result"
    }
   ],
   "source": [
    "# create 2d array\n",
    "np.zeros((2,2))"
   ]
  },
  {
   "cell_type": "code",
   "execution_count": 10,
   "id": "4feddf9f",
   "metadata": {},
   "outputs": [
    {
     "name": "stdout",
     "output_type": "stream",
     "text": [
      "[[[0. 0. 0.]\n",
      "  [0. 0. 0.]\n",
      "  [0. 0. 0.]]\n",
      "\n",
      " [[0. 0. 0.]\n",
      "  [0. 0. 0.]\n",
      "  [0. 0. 0.]]\n",
      "\n",
      " [[0. 0. 0.]\n",
      "  [0. 0. 0.]\n",
      "  [0. 0. 0.]]]\n",
      "<class 'numpy.ndarray'>\n"
     ]
    }
   ],
   "source": [
    "# create 3D zero matrix \n",
    "print(np.zeros((3,3,3)))\n",
    "print(type( np.zeros((3,3,3))))"
   ]
  },
  {
   "cell_type": "markdown",
   "id": "3acb24d6",
   "metadata": {},
   "source": [
    "### create  ndarray object using ones()"
   ]
  },
  {
   "cell_type": "code",
   "execution_count": 11,
   "id": "316448de",
   "metadata": {},
   "outputs": [
    {
     "data": {
      "text/plain": [
       "array([1., 1., 1., 1., 1.])"
      ]
     },
     "execution_count": 11,
     "metadata": {},
     "output_type": "execute_result"
    }
   ],
   "source": [
    "# 1D Ones matrix \n",
    "np.ones(5)"
   ]
  },
  {
   "cell_type": "code",
   "execution_count": 12,
   "id": "19d893eb",
   "metadata": {},
   "outputs": [
    {
     "data": {
      "text/plain": [
       "array([[1., 1., 1.],\n",
       "       [1., 1., 1.]])"
      ]
     },
     "execution_count": 12,
     "metadata": {},
     "output_type": "execute_result"
    }
   ],
   "source": [
    "# 2D Ones matrix\n",
    "np.ones((2,3))"
   ]
  },
  {
   "cell_type": "code",
   "execution_count": 13,
   "id": "6ca8f9d8",
   "metadata": {},
   "outputs": [
    {
     "data": {
      "text/plain": [
       "array([[[1., 1., 1.],\n",
       "        [1., 1., 1.],\n",
       "        [1., 1., 1.]],\n",
       "\n",
       "       [[1., 1., 1.],\n",
       "        [1., 1., 1.],\n",
       "        [1., 1., 1.]],\n",
       "\n",
       "       [[1., 1., 1.],\n",
       "        [1., 1., 1.],\n",
       "        [1., 1., 1.]]])"
      ]
     },
     "execution_count": 13,
     "metadata": {},
     "output_type": "execute_result"
    }
   ],
   "source": [
    "# 3d ones matrix \n",
    "np.ones((3,3,3))"
   ]
  },
  {
   "cell_type": "markdown",
   "id": "02db5af4",
   "metadata": {},
   "source": [
    "### create ndarray  object using linspace()"
   ]
  },
  {
   "cell_type": "code",
   "execution_count": 14,
   "id": "177178d6",
   "metadata": {},
   "outputs": [
    {
     "data": {
      "text/plain": [
       "array([10.        , 11.11111111, 12.22222222, 13.33333333, 14.44444444,\n",
       "       15.55555556, 16.66666667, 17.77777778, 18.88888889, 20.        ])"
      ]
     },
     "execution_count": 14,
     "metadata": {},
     "output_type": "execute_result"
    }
   ],
   "source": [
    "# 1D array \n",
    "# Syntax :- \n",
    "#             np.linspace(start , stop , num , endpoint , retstep, dtype)\n",
    "np.linspace(10,20,10)"
   ]
  },
  {
   "cell_type": "code",
   "execution_count": 15,
   "id": "b3d1ebff",
   "metadata": {},
   "outputs": [
    {
     "data": {
      "text/plain": [
       "array([[  1. ,  20.8,  40.6],\n",
       "       [ 60.4,  80.2, 100. ]])"
      ]
     },
     "execution_count": 15,
     "metadata": {},
     "output_type": "execute_result"
    }
   ],
   "source": [
    "np.linspace(1,100,6).reshape(2,3)"
   ]
  },
  {
   "cell_type": "code",
   "execution_count": 16,
   "id": "7221e4c0",
   "metadata": {},
   "outputs": [
    {
     "data": {
      "text/plain": [
       "array([[[ 2.        , 10.08333333],\n",
       "        [18.16666667, 26.25      ]],\n",
       "\n",
       "       [[34.33333333, 42.41666667],\n",
       "        [50.5       , 58.58333333]],\n",
       "\n",
       "       [[66.66666667, 74.75      ],\n",
       "        [82.83333333, 90.91666667]]])"
      ]
     },
     "execution_count": 16,
     "metadata": {},
     "output_type": "execute_result"
    }
   ],
   "source": [
    "np.linspace(2,99,12,endpoint=False).reshape((3,2,2))"
   ]
  },
  {
   "cell_type": "markdown",
   "id": "8339f480",
   "metadata": {},
   "source": [
    "### create ndarry object using full()"
   ]
  },
  {
   "cell_type": "markdown",
   "id": "f28bc707",
   "metadata": {},
   "source": [
    "  This function is used for building a matrix by specifying fill value either 1-D , 2-D , or N-D \n",
    "\n",
    "         Syntax :- \n",
    "                     varname = numpy.full(shape,fill_value , dtype )"
   ]
  },
  {
   "cell_type": "code",
   "execution_count": 17,
   "id": "dcc51a3e",
   "metadata": {},
   "outputs": [
    {
     "data": {
      "text/plain": [
       "array([8, 8, 8, 8, 8])"
      ]
     },
     "execution_count": 17,
     "metadata": {},
     "output_type": "execute_result"
    }
   ],
   "source": [
    "arr = np.full(5,8)\n",
    "arr"
   ]
  },
  {
   "cell_type": "code",
   "execution_count": 18,
   "id": "31fbcef5",
   "metadata": {},
   "outputs": [
    {
     "data": {
      "text/plain": [
       "array([[6, 6, 6],\n",
       "       [6, 6, 6]])"
      ]
     },
     "execution_count": 18,
     "metadata": {},
     "output_type": "execute_result"
    }
   ],
   "source": [
    "# 2D array\n",
    "arr = np.full((2,3),6)\n",
    "arr"
   ]
  },
  {
   "cell_type": "code",
   "execution_count": 19,
   "id": "7c7639e3",
   "metadata": {},
   "outputs": [
    {
     "data": {
      "text/plain": [
       "array([[[3, 3, 3],\n",
       "        [3, 3, 3],\n",
       "        [3, 3, 3]],\n",
       "\n",
       "       [[3, 3, 3],\n",
       "        [3, 3, 3],\n",
       "        [3, 3, 3]],\n",
       "\n",
       "       [[3, 3, 3],\n",
       "        [3, 3, 3],\n",
       "        [3, 3, 3]]])"
      ]
     },
     "execution_count": 19,
     "metadata": {},
     "output_type": "execute_result"
    }
   ],
   "source": [
    "# 3D array\n",
    "arr = np.full((3,3,3),3)\n",
    "arr"
   ]
  },
  {
   "cell_type": "markdown",
   "id": "19ef5036",
   "metadata": {},
   "source": [
    "### Create ndarry object using identity()\n"
   ]
  },
  {
   "cell_type": "markdown",
   "id": "9466fa63",
   "metadata": {},
   "source": [
    "    This function always build identity or unit matrix \n",
    "            syntax :- \n",
    "                     varname = numpy.identity(N,dtype)\n",
    "\n",
    "                     Here N represents N*N matrix "
   ]
  },
  {
   "cell_type": "code",
   "execution_count": 20,
   "id": "c2d30549",
   "metadata": {},
   "outputs": [
    {
     "data": {
      "text/plain": [
       "array([[1., 0., 0., 0., 0.],\n",
       "       [0., 1., 0., 0., 0.],\n",
       "       [0., 0., 1., 0., 0.],\n",
       "       [0., 0., 0., 1., 0.],\n",
       "       [0., 0., 0., 0., 1.]])"
      ]
     },
     "execution_count": 20,
     "metadata": {},
     "output_type": "execute_result"
    }
   ],
   "source": [
    "np.identity(5)"
   ]
  },
  {
   "cell_type": "code",
   "execution_count": 21,
   "id": "7708fed1",
   "metadata": {},
   "outputs": [
    {
     "data": {
      "text/plain": [
       "array([[1., 0., 0.],\n",
       "       [0., 1., 0.],\n",
       "       [0., 0., 1.]])"
      ]
     },
     "execution_count": 21,
     "metadata": {},
     "output_type": "execute_result"
    }
   ],
   "source": [
    "np.identity(3)"
   ]
  },
  {
   "cell_type": "markdown",
   "id": "937d2a45",
   "metadata": {},
   "source": [
    "### create ndarry object using eye()"
   ]
  },
  {
   "cell_type": "markdown",
   "id": "558733e4",
   "metadata": {},
   "source": [
    "   The eye() function is used to create a 2-D array with ones on the diagonal and zeros elsewhere.\n",
    "   \n",
    "          Syntax :- \n",
    "                       numpy.eye(N, M= None , k=0, dtype)\n",
    "                       N = number of rows in the output\n",
    "                       M = number of columns in the output . It None defaults to N\n",
    "                       K = Index of the diagonal : 0 (the default) refers to the main diagonal , a positive value refers to an upper main diagonal , and a negative value to a lower diagonal  "
   ]
  },
  {
   "cell_type": "code",
   "execution_count": 22,
   "id": "2593d692",
   "metadata": {},
   "outputs": [
    {
     "data": {
      "text/plain": [
       "array([[1., 0., 0., 0., 0.],\n",
       "       [0., 1., 0., 0., 0.],\n",
       "       [0., 0., 1., 0., 0.],\n",
       "       [0., 0., 0., 1., 0.],\n",
       "       [0., 0., 0., 0., 1.]])"
      ]
     },
     "execution_count": 22,
     "metadata": {},
     "output_type": "execute_result"
    }
   ],
   "source": [
    "np.eye(5)"
   ]
  },
  {
   "cell_type": "code",
   "execution_count": 23,
   "id": "81f40568",
   "metadata": {},
   "outputs": [
    {
     "data": {
      "text/plain": [
       "array([[1., 0., 0., 0., 0., 0.],\n",
       "       [0., 1., 0., 0., 0., 0.],\n",
       "       [0., 0., 1., 0., 0., 0.],\n",
       "       [0., 0., 0., 1., 0., 0.],\n",
       "       [0., 0., 0., 0., 1., 0.]])"
      ]
     },
     "execution_count": 23,
     "metadata": {},
     "output_type": "execute_result"
    }
   ],
   "source": [
    "np.eye(5,6)"
   ]
  },
  {
   "cell_type": "code",
   "execution_count": 24,
   "id": "a19bc7f3",
   "metadata": {},
   "outputs": [
    {
     "data": {
      "text/plain": [
       "array([[0., 0., 1., 0., 0., 0.],\n",
       "       [0., 0., 0., 1., 0., 0.],\n",
       "       [0., 0., 0., 0., 1., 0.],\n",
       "       [0., 0., 0., 0., 0., 1.],\n",
       "       [0., 0., 0., 0., 0., 0.]])"
      ]
     },
     "execution_count": 24,
     "metadata": {},
     "output_type": "execute_result"
    }
   ],
   "source": [
    "np.eye(5,6,2)"
   ]
  },
  {
   "cell_type": "code",
   "execution_count": 25,
   "id": "f1bcbdae",
   "metadata": {},
   "outputs": [
    {
     "data": {
      "text/plain": [
       "array([[0., 0., 0., 0., 0., 0.],\n",
       "       [0., 0., 0., 0., 0., 0.],\n",
       "       [1., 0., 0., 0., 0., 0.],\n",
       "       [0., 1., 0., 0., 0., 0.],\n",
       "       [0., 0., 1., 0., 0., 0.]])"
      ]
     },
     "execution_count": 25,
     "metadata": {},
     "output_type": "execute_result"
    }
   ],
   "source": [
    "np.eye(5,6,-2)"
   ]
  },
  {
   "cell_type": "code",
   "execution_count": 26,
   "id": "176909cd",
   "metadata": {},
   "outputs": [
    {
     "data": {
      "text/plain": [
       "array([[0., 1., 0., 0., 0.],\n",
       "       [0., 0., 1., 0., 0.],\n",
       "       [0., 0., 0., 1., 0.],\n",
       "       [0., 0., 0., 0., 1.],\n",
       "       [0., 0., 0., 0., 0.]])"
      ]
     },
     "execution_count": 26,
     "metadata": {},
     "output_type": "execute_result"
    }
   ],
   "source": [
    "np.eye(5,k=1)"
   ]
  },
  {
   "cell_type": "markdown",
   "id": "4d2e26e2",
   "metadata": {},
   "source": [
    "### Create ndarray object using hstack()"
   ]
  },
  {
   "cell_type": "markdown",
   "id": "6c486a4a",
   "metadata": {},
   "source": [
    " Syntax :-    Varname :- numpy.hstack((ndaaryobj1),(ndarrayobj2)) \n",
    "\n",
    " the function  numpy.hstack(tup) takes arguments as tuple which include matrix's/arrays horizontally which have the same number of rows . The hstack returns an ndarray \n",
    "              "
   ]
  },
  {
   "cell_type": "code",
   "execution_count": 27,
   "id": "ee131915",
   "metadata": {},
   "outputs": [
    {
     "data": {
      "text/plain": [
       "array([ 1,  2,  3,  4,  5,  6,  7,  8,  9, 10])"
      ]
     },
     "execution_count": 27,
     "metadata": {},
     "output_type": "execute_result"
    }
   ],
   "source": [
    "arr1 = [1,2,3,4,5]\n",
    "arr2 = [6,7,8,9,10]\n",
    "np.hstack((arr1,arr2))"
   ]
  },
  {
   "cell_type": "code",
   "execution_count": 28,
   "id": "cbeaa5d5",
   "metadata": {},
   "outputs": [
    {
     "name": "stdout",
     "output_type": "stream",
     "text": [
      "array 1 :- \n",
      " [[0 1 2 3 4]\n",
      " [5 6 7 8 9]]\n",
      "array 2 :- \n",
      " [[10 11 12 13 14]\n",
      " [15 16 17 18 19]]\n",
      "After hstack :- \n",
      " [[ 0  1  2  3  4 10 11 12 13 14]\n",
      " [ 5  6  7  8  9 15 16 17 18 19]]\n"
     ]
    }
   ],
   "source": [
    "arr1 = np.arange(10).reshape(2,5)\n",
    "arr2 = np.arange(10,20).reshape(2,5)\n",
    "print(\"array 1 :- \\n\",arr1)\n",
    "print(\"array 2 :- \\n\",arr2)\n",
    "print(\"After hstack :- \\n\", np.hstack((arr1,arr2)))"
   ]
  },
  {
   "cell_type": "code",
   "execution_count": 29,
   "id": "8919a3fb",
   "metadata": {},
   "outputs": [
    {
     "name": "stdout",
     "output_type": "stream",
     "text": [
      "array 1 :- \n",
      " [[0 1 2 3 4]\n",
      " [5 6 7 8 9]]\n",
      "array 2 :- \n",
      " [[10 11 12 13 14]\n",
      " [15 16 17 18 19]]\n",
      "array 3 :-\n",
      " [[20 21 22 23 24]\n",
      " [25 26 27 28 29]]\n",
      "After hstack :- \n",
      " [[ 0  1  2  3  4 10 11 12 13 14 20 21 22 23 24]\n",
      " [ 5  6  7  8  9 15 16 17 18 19 25 26 27 28 29]]\n"
     ]
    }
   ],
   "source": [
    "arr1 = np.arange(10).reshape(2,5)\n",
    "arr2 = np.arange(10,20).reshape(2,5)\n",
    "arr3 = np.arange(20,30).reshape(2,5)\n",
    "print(\"array 1 :- \\n\",arr1)\n",
    "print(\"array 2 :- \\n\",arr2)\n",
    "print(\"array 3 :-\\n\",arr3)\n",
    "print(\"After hstack :- \\n\", np.hstack((arr1,arr2,arr3)))"
   ]
  },
  {
   "cell_type": "markdown",
   "id": "8a193677",
   "metadata": {},
   "source": [
    "### Create ndarray object using vsatck()"
   ]
  },
  {
   "cell_type": "markdown",
   "id": "e9ee134f",
   "metadata": {},
   "source": [
    "   Synatx :-  numpy.vstack((ndarray1,ndarray2,__ , ndarrayn))\n",
    "\n",
    "   The function numpy.vstack(tup) takes arguments as tuple which include matrix,s/array . The vstack function combines the two or  more matrix / arrays . vertically which have the same number of columns . The vstack returns an ndarray"
   ]
  },
  {
   "cell_type": "code",
   "execution_count": 30,
   "id": "c78a2b47",
   "metadata": {},
   "outputs": [
    {
     "data": {
      "text/plain": [
       "array([[ 1,  2,  3,  4,  5],\n",
       "       [ 6,  7,  8,  9, 10]])"
      ]
     },
     "execution_count": 30,
     "metadata": {},
     "output_type": "execute_result"
    }
   ],
   "source": [
    "arr1 = [1,2,3,4,5]\n",
    "arr2 = [6,7,8,9,10]\n",
    "np.vstack((arr1,arr2))"
   ]
  },
  {
   "cell_type": "code",
   "execution_count": 31,
   "id": "4fca9da5",
   "metadata": {},
   "outputs": [
    {
     "name": "stdout",
     "output_type": "stream",
     "text": [
      "array 1 :- \n",
      " [[0 1 2 3 4]\n",
      " [5 6 7 8 9]]\n",
      "array 2 :- \n",
      " [[10 11 12 13 14]\n",
      " [15 16 17 18 19]]\n",
      "After vstack :- \n",
      " [[ 0  1  2  3  4]\n",
      " [ 5  6  7  8  9]\n",
      " [10 11 12 13 14]\n",
      " [15 16 17 18 19]]\n"
     ]
    }
   ],
   "source": [
    "arr1 = np.arange(10).reshape(2,5)\n",
    "arr2 = np.arange(10,20).reshape(2,5)\n",
    "print(\"array 1 :- \\n\",arr1)\n",
    "print(\"array 2 :- \\n\",arr2)\n",
    "print(\"After vstack :- \\n\", np.vstack((arr1,arr2)))"
   ]
  },
  {
   "cell_type": "code",
   "execution_count": 32,
   "id": "5b5761f8",
   "metadata": {},
   "outputs": [
    {
     "name": "stdout",
     "output_type": "stream",
     "text": [
      "array 1 :- \n",
      " [[0 1 2 3 4]\n",
      " [5 6 7 8 9]]\n",
      "array 2 :- \n",
      " [[10 11 12 13 14]\n",
      " [15 16 17 18 19]]\n",
      "array 3 :-\n",
      " [[20 21 22 23 24]\n",
      " [25 26 27 28 29]]\n",
      "After vstack :- \n",
      " [[ 0  1  2  3  4]\n",
      " [ 5  6  7  8  9]\n",
      " [10 11 12 13 14]\n",
      " [15 16 17 18 19]\n",
      " [20 21 22 23 24]\n",
      " [25 26 27 28 29]]\n"
     ]
    }
   ],
   "source": [
    "arr1 = np.arange(10).reshape(2,5)\n",
    "arr2 = np.arange(10,20).reshape(2,5)\n",
    "arr3 = np.arange(20,30).reshape(2,5)\n",
    "print(\"array 1 :- \\n\",arr1)\n",
    "print(\"array 2 :- \\n\",arr2)\n",
    "print(\"array 3 :-\\n\",arr3)\n",
    "print(\"After vstack :- \\n\", np.vstack((arr1,arr2,arr3)))"
   ]
  },
  {
   "cell_type": "markdown",
   "id": "f8aef0be",
   "metadata": {},
   "source": [
    "## Random module in numpy "
   ]
  },
  {
   "cell_type": "markdown",
   "id": "d413f9c9",
   "metadata": {},
   "source": [
    "The purpose of random module is that \"To generate random values for various applications development like otps , captcha code etcs."
   ]
  },
  {
   "cell_type": "markdown",
   "id": "2b5e5868",
   "metadata": {},
   "source": [
    "    Random module of numpy contains the following functions \n",
    "                            \n",
    "                               1. randint()\n",
    "                               2. rand()\n",
    "                               3. uniform()\n",
    "                               4. randn()\n",
    "                               5. normal()\n",
    "                               6. shuffle()\n",
    "                               7. choice()"
   ]
  },
  {
   "cell_type": "code",
   "execution_count": 33,
   "id": "dceb89e3",
   "metadata": {},
   "outputs": [],
   "source": [
    "import random "
   ]
  },
  {
   "cell_type": "code",
   "execution_count": 34,
   "id": "e696810f",
   "metadata": {},
   "outputs": [
    {
     "data": {
      "text/plain": [
       "9"
      ]
     },
     "execution_count": 34,
     "metadata": {},
     "output_type": "execute_result"
    }
   ],
   "source": [
    "np.random.randint(10)"
   ]
  },
  {
   "cell_type": "code",
   "execution_count": 35,
   "id": "bddab7e8",
   "metadata": {},
   "outputs": [
    {
     "data": {
      "text/plain": [
       "17"
      ]
     },
     "execution_count": 35,
     "metadata": {},
     "output_type": "execute_result"
    }
   ],
   "source": [
    "np.random.randint(10,20)"
   ]
  },
  {
   "cell_type": "code",
   "execution_count": 36,
   "id": "0f025f9b",
   "metadata": {},
   "outputs": [
    {
     "data": {
      "text/plain": [
       "array([ 80,  34,  19, 107, 152], dtype=int32)"
      ]
     },
     "execution_count": 36,
     "metadata": {},
     "output_type": "execute_result"
    }
   ],
   "source": [
    "np.random.randint(10,200,5)"
   ]
  },
  {
   "cell_type": "code",
   "execution_count": 37,
   "id": "729eb5c5",
   "metadata": {},
   "outputs": [
    {
     "data": {
      "text/plain": [
       "array([0.21321355, 0.80911342, 0.37089067, 0.03244346, 0.8882786 ,\n",
       "       0.18544858, 0.88427126, 0.26648755, 0.27972812, 0.66928471])"
      ]
     },
     "execution_count": 37,
     "metadata": {},
     "output_type": "execute_result"
    }
   ],
   "source": [
    "np.random.rand(10)"
   ]
  },
  {
   "cell_type": "code",
   "execution_count": 38,
   "id": "40eca82f",
   "metadata": {},
   "outputs": [
    {
     "data": {
      "text/plain": [
       "array([[0.25767863, 0.95227463],\n",
       "       [0.91321716, 0.70928234],\n",
       "       [0.19869836, 0.96472106]])"
      ]
     },
     "execution_count": 38,
     "metadata": {},
     "output_type": "execute_result"
    }
   ],
   "source": [
    "np.random.rand(3,2)"
   ]
  },
  {
   "cell_type": "code",
   "execution_count": 39,
   "id": "3f5289cc",
   "metadata": {},
   "outputs": [
    {
     "data": {
      "text/plain": [
       "array([[[0.69506744, 0.07490748],\n",
       "        [0.56209628, 0.58072563]],\n",
       "\n",
       "       [[0.61748315, 0.87639552],\n",
       "        [0.97873323, 0.29467089]],\n",
       "\n",
       "       [[0.59665542, 0.60227139],\n",
       "        [0.92191589, 0.60818168]]])"
      ]
     },
     "execution_count": 39,
     "metadata": {},
     "output_type": "execute_result"
    }
   ],
   "source": [
    "np.random.rand(3,2,2)"
   ]
  },
  {
   "cell_type": "code",
   "execution_count": 40,
   "id": "f6b3d086",
   "metadata": {},
   "outputs": [
    {
     "data": {
      "text/plain": [
       "0.9706895187805905"
      ]
     },
     "execution_count": 40,
     "metadata": {},
     "output_type": "execute_result"
    }
   ],
   "source": [
    "np.random.uniform()"
   ]
  },
  {
   "cell_type": "code",
   "execution_count": 41,
   "id": "5164e4e3",
   "metadata": {},
   "outputs": [
    {
     "data": {
      "text/plain": [
       "13.352392496295305"
      ]
     },
     "execution_count": 41,
     "metadata": {},
     "output_type": "execute_result"
    }
   ],
   "source": [
    "np.random.uniform(10,20)"
   ]
  },
  {
   "cell_type": "code",
   "execution_count": 42,
   "id": "aee4e752",
   "metadata": {},
   "outputs": [
    {
     "data": {
      "text/plain": [
       "array([68.59108459, 58.72326304, 26.80672889, 61.3698859 , 78.34959592])"
      ]
     },
     "execution_count": 42,
     "metadata": {},
     "output_type": "execute_result"
    }
   ],
   "source": [
    "np.random.uniform(1,99,5)"
   ]
  },
  {
   "cell_type": "code",
   "execution_count": 43,
   "id": "014677f9",
   "metadata": {},
   "outputs": [
    {
     "data": {
      "text/plain": [
       "array([[[ 4.40521462, 39.1307933 , 80.95036039],\n",
       "        [75.35762487, 98.58766221, 39.74496477],\n",
       "        [ 4.62453247, 27.64045198, 45.14231851]],\n",
       "\n",
       "       [[13.1991315 , 83.23830318,  2.84449527],\n",
       "        [66.33839533, 94.40934799, 87.73986089],\n",
       "        [52.22652173, 92.65938447, 60.50070729]]])"
      ]
     },
     "execution_count": 43,
     "metadata": {},
     "output_type": "execute_result"
    }
   ],
   "source": [
    "np.random.uniform(1,99,(2,3,3))"
   ]
  },
  {
   "cell_type": "code",
   "execution_count": 44,
   "id": "bb93c833",
   "metadata": {},
   "outputs": [
    {
     "data": {
      "text/plain": [
       "0.9789860557190516"
      ]
     },
     "execution_count": 44,
     "metadata": {},
     "output_type": "execute_result"
    }
   ],
   "source": [
    "np.random.randn()"
   ]
  },
  {
   "cell_type": "code",
   "execution_count": 45,
   "id": "63e062a1",
   "metadata": {},
   "outputs": [
    {
     "data": {
      "text/plain": [
       "array([-0.32971285, -1.21958116, -0.73591273,  0.61248538, -0.67657191,\n",
       "       -0.35083741,  1.23187514,  2.18516987, -1.50749849, -0.0079298 ])"
      ]
     },
     "execution_count": 45,
     "metadata": {},
     "output_type": "execute_result"
    }
   ],
   "source": [
    "np.random.randn(10)"
   ]
  },
  {
   "cell_type": "code",
   "execution_count": 46,
   "id": "34fa1e55",
   "metadata": {},
   "outputs": [
    {
     "data": {
      "text/plain": [
       "array([[-0.6281589 , -1.64518827],\n",
       "       [-0.39216778,  0.59636461]])"
      ]
     },
     "execution_count": 46,
     "metadata": {},
     "output_type": "execute_result"
    }
   ],
   "source": [
    "np.random.randn(2,2)"
   ]
  },
  {
   "cell_type": "code",
   "execution_count": 47,
   "id": "4dc49104",
   "metadata": {},
   "outputs": [
    {
     "name": "stdout",
     "output_type": "stream",
     "text": [
      "Array 1 :-  [0 1 2 3 4 5 6 7 8 9]\n",
      "after suffling array 1:-  [0 5 7 9 8 6 2 3 1 4]\n"
     ]
    }
   ],
   "source": [
    "arr = np.arange(10)\n",
    "print(\"Array 1 :- \", arr)\n",
    "np.random.shuffle(arr)\n",
    "print(\"after suffling array 1:- \" , arr)"
   ]
  },
  {
   "cell_type": "code",
   "execution_count": 48,
   "id": "32902fd0",
   "metadata": {},
   "outputs": [
    {
     "data": {
      "text/plain": [
       "np.int64(42)"
      ]
     },
     "execution_count": 48,
     "metadata": {},
     "output_type": "execute_result"
    }
   ],
   "source": [
    "arr = np.arange(100)\n",
    "np.random.choice(arr)"
   ]
  },
  {
   "cell_type": "markdown",
   "id": "e5752bee",
   "metadata": {},
   "source": [
    "### Numpy indexing "
   ]
  },
  {
   "cell_type": "code",
   "execution_count": 49,
   "id": "611c63f0",
   "metadata": {},
   "outputs": [
    {
     "data": {
      "text/plain": [
       "array([[[-1.49693908, -0.55720337, -1.02632943],\n",
       "        [-0.26896375,  0.77649791, -0.049346  ],\n",
       "        [ 1.4794267 , -0.67215199,  1.03430138]],\n",
       "\n",
       "       [[-0.14438912, -0.81808069, -0.51402367],\n",
       "        [ 1.05790702,  0.54952562, -1.76049761],\n",
       "        [ 0.49934356,  0.88447852,  0.85991052]],\n",
       "\n",
       "       [[-0.17091299, -0.40547426,  0.24945687],\n",
       "        [-1.02107851,  0.18499498,  0.21670305],\n",
       "        [ 2.54699475, -0.72706689, -0.99542402]]])"
      ]
     },
     "execution_count": 49,
     "metadata": {},
     "output_type": "execute_result"
    }
   ],
   "source": [
    "arr = np.random.randn(3,3,3)\n",
    "arr"
   ]
  },
  {
   "cell_type": "code",
   "execution_count": 50,
   "id": "0ca9d0e7",
   "metadata": {},
   "outputs": [
    {
     "data": {
      "text/plain": [
       "array([[-0.14438912, -0.81808069, -0.51402367],\n",
       "       [ 1.05790702,  0.54952562, -1.76049761],\n",
       "       [ 0.49934356,  0.88447852,  0.85991052]])"
      ]
     },
     "execution_count": 50,
     "metadata": {},
     "output_type": "execute_result"
    }
   ],
   "source": [
    "arr[1]\n"
   ]
  },
  {
   "cell_type": "code",
   "execution_count": 51,
   "id": "15fd1f6d",
   "metadata": {},
   "outputs": [
    {
     "data": {
      "text/plain": [
       "array([[-1.49693908, -0.55720337, -1.02632943],\n",
       "       [-0.26896375,  0.77649791, -0.049346  ],\n",
       "       [ 1.4794267 , -0.67215199,  1.03430138]])"
      ]
     },
     "execution_count": 51,
     "metadata": {},
     "output_type": "execute_result"
    }
   ],
   "source": [
    "arr[0]"
   ]
  },
  {
   "cell_type": "code",
   "execution_count": 52,
   "id": "da7a1574",
   "metadata": {},
   "outputs": [
    {
     "data": {
      "text/plain": [
       "array([-0.26896375,  0.77649791, -0.049346  ])"
      ]
     },
     "execution_count": 52,
     "metadata": {},
     "output_type": "execute_result"
    }
   ],
   "source": [
    "arr[0][1]"
   ]
  },
  {
   "cell_type": "code",
   "execution_count": 53,
   "id": "e11d39f2",
   "metadata": {},
   "outputs": [
    {
     "data": {
      "text/plain": [
       "np.float64(0.7764979132127552)"
      ]
     },
     "execution_count": 53,
     "metadata": {},
     "output_type": "execute_result"
    }
   ],
   "source": [
    "arr[0][1][1]"
   ]
  },
  {
   "cell_type": "code",
   "execution_count": 54,
   "id": "22efad6c",
   "metadata": {},
   "outputs": [
    {
     "data": {
      "text/plain": [
       "np.float64(0.5495256234850585)"
      ]
     },
     "execution_count": 54,
     "metadata": {},
     "output_type": "execute_result"
    }
   ],
   "source": [
    "arr[1,1,1]"
   ]
  },
  {
   "cell_type": "code",
   "execution_count": 55,
   "id": "cbd69f99",
   "metadata": {},
   "outputs": [
    {
     "data": {
      "text/plain": [
       "array([[-0.14438912, -0.81808069, -0.51402367],\n",
       "       [ 1.05790702,  0.54952562, -1.76049761],\n",
       "       [ 0.49934356,  0.88447852,  0.85991052]])"
      ]
     },
     "execution_count": 55,
     "metadata": {},
     "output_type": "execute_result"
    }
   ],
   "source": [
    "arr[1]"
   ]
  },
  {
   "cell_type": "markdown",
   "id": "6d09e290",
   "metadata": {},
   "source": [
    "### numpy slicing "
   ]
  },
  {
   "cell_type": "code",
   "execution_count": 56,
   "id": "8bd94b01",
   "metadata": {},
   "outputs": [],
   "source": [
    "arr2 = np.arange(30).reshape((3,2,5))"
   ]
  },
  {
   "cell_type": "code",
   "execution_count": 57,
   "id": "b7c56495",
   "metadata": {},
   "outputs": [
    {
     "data": {
      "text/plain": [
       "array([[[ 0,  1,  2,  3,  4],\n",
       "        [ 5,  6,  7,  8,  9]],\n",
       "\n",
       "       [[10, 11, 12, 13, 14],\n",
       "        [15, 16, 17, 18, 19]],\n",
       "\n",
       "       [[20, 21, 22, 23, 24],\n",
       "        [25, 26, 27, 28, 29]]])"
      ]
     },
     "execution_count": 57,
     "metadata": {},
     "output_type": "execute_result"
    }
   ],
   "source": [
    "arr2"
   ]
  },
  {
   "cell_type": "code",
   "execution_count": 58,
   "id": "9c3ea2ff",
   "metadata": {},
   "outputs": [
    {
     "data": {
      "text/plain": [
       "array([[10, 11, 12, 13, 14],\n",
       "       [15, 16, 17, 18, 19]])"
      ]
     },
     "execution_count": 58,
     "metadata": {},
     "output_type": "execute_result"
    }
   ],
   "source": [
    "arr2[1]"
   ]
  },
  {
   "cell_type": "code",
   "execution_count": 59,
   "id": "47bd1f91",
   "metadata": {},
   "outputs": [
    {
     "data": {
      "text/plain": [
       "array([10, 11, 12, 13, 14])"
      ]
     },
     "execution_count": 59,
     "metadata": {},
     "output_type": "execute_result"
    }
   ],
   "source": [
    "arr2[1][0]"
   ]
  },
  {
   "cell_type": "code",
   "execution_count": 60,
   "id": "3960f41b",
   "metadata": {},
   "outputs": [
    {
     "data": {
      "text/plain": [
       "array([10, 11])"
      ]
     },
     "execution_count": 60,
     "metadata": {},
     "output_type": "execute_result"
    }
   ],
   "source": [
    "arr2[1][0][0:2]"
   ]
  },
  {
   "cell_type": "code",
   "execution_count": 61,
   "id": "04bc297a",
   "metadata": {},
   "outputs": [
    {
     "data": {
      "text/plain": [
       "array([[[ 0,  1,  2,  3,  4],\n",
       "        [ 5,  6,  7,  8,  9]],\n",
       "\n",
       "       [[10, 11, 12, 13, 14],\n",
       "        [15, 16, 17, 18, 19]],\n",
       "\n",
       "       [[20, 21, 22, 23, 24],\n",
       "        [25, 26, 27, 28, 29]]])"
      ]
     },
     "execution_count": 61,
     "metadata": {},
     "output_type": "execute_result"
    }
   ],
   "source": [
    "arr2"
   ]
  },
  {
   "cell_type": "code",
   "execution_count": 62,
   "id": "ace41c2e",
   "metadata": {},
   "outputs": [
    {
     "data": {
      "text/plain": [
       "array([[10, 11, 12, 13, 14],\n",
       "       [15, 16, 17, 18, 19]])"
      ]
     },
     "execution_count": 62,
     "metadata": {},
     "output_type": "execute_result"
    }
   ],
   "source": [
    "arr2[1]"
   ]
  },
  {
   "cell_type": "code",
   "execution_count": 63,
   "id": "a345f723",
   "metadata": {},
   "outputs": [
    {
     "data": {
      "text/plain": [
       "array([[13, 14],\n",
       "       [18, 19]])"
      ]
     },
     "execution_count": 63,
     "metadata": {},
     "output_type": "execute_result"
    }
   ],
   "source": [
    "arr2[1][0:,3:]"
   ]
  },
  {
   "cell_type": "code",
   "execution_count": 64,
   "id": "f88e7252",
   "metadata": {},
   "outputs": [
    {
     "data": {
      "text/plain": [
       "array([[[ 0,  1,  2,  3,  4],\n",
       "        [ 5,  6,  7,  8,  9]],\n",
       "\n",
       "       [[10, 11, 12, 13, 14],\n",
       "        [15, 16, 17, 18, 19]],\n",
       "\n",
       "       [[20, 21, 22, 23, 24],\n",
       "        [25, 26, 27, 28, 29]]])"
      ]
     },
     "execution_count": 64,
     "metadata": {},
     "output_type": "execute_result"
    }
   ],
   "source": [
    "arr2"
   ]
  },
  {
   "cell_type": "code",
   "execution_count": 65,
   "id": "4857e4b0",
   "metadata": {},
   "outputs": [
    {
     "data": {
      "text/plain": [
       "array([[[6, 7, 8]]])"
      ]
     },
     "execution_count": 65,
     "metadata": {},
     "output_type": "execute_result"
    }
   ],
   "source": [
    "arr2[0:1,1:,1:4]"
   ]
  },
  {
   "cell_type": "markdown",
   "id": "f034a71f",
   "metadata": {},
   "source": [
    "### Advance Indexing and slicing "
   ]
  },
  {
   "cell_type": "code",
   "execution_count": 66,
   "id": "555087f9",
   "metadata": {},
   "outputs": [],
   "source": [
    "arr = np.array([10,20,30,40,50,60])"
   ]
  },
  {
   "cell_type": "code",
   "execution_count": 67,
   "id": "f6cb4dba",
   "metadata": {},
   "outputs": [
    {
     "data": {
      "text/plain": [
       "array([10, 20, 30, 40, 50, 60])"
      ]
     },
     "execution_count": 67,
     "metadata": {},
     "output_type": "execute_result"
    }
   ],
   "source": [
    "arr"
   ]
  },
  {
   "cell_type": "code",
   "execution_count": 68,
   "id": "75967d3b",
   "metadata": {},
   "outputs": [
    {
     "data": {
      "text/plain": [
       "array([20, 40, 50])"
      ]
     },
     "execution_count": 68,
     "metadata": {},
     "output_type": "execute_result"
    }
   ],
   "source": [
    "rind = [1,3,4]\n",
    "arr[rind]"
   ]
  },
  {
   "cell_type": "code",
   "execution_count": 69,
   "id": "1bb47a1e",
   "metadata": {},
   "outputs": [
    {
     "data": {
      "text/plain": [
       "array([[0, 1, 2, 3, 4],\n",
       "       [5, 6, 7, 8, 9]])"
      ]
     },
     "execution_count": 69,
     "metadata": {},
     "output_type": "execute_result"
    }
   ],
   "source": [
    "arr = np.arange(10).reshape(2,5)\n",
    "arr"
   ]
  },
  {
   "cell_type": "code",
   "execution_count": 70,
   "id": "3f4b966c",
   "metadata": {},
   "outputs": [
    {
     "data": {
      "text/plain": [
       "array([2, 8])"
      ]
     },
     "execution_count": 70,
     "metadata": {},
     "output_type": "execute_result"
    }
   ],
   "source": [
    "rind = [0,1]\n",
    "cind = [2,3]\n",
    "arr[rind,cind]"
   ]
  },
  {
   "cell_type": "code",
   "execution_count": 71,
   "id": "e4916121",
   "metadata": {},
   "outputs": [
    {
     "data": {
      "text/plain": [
       "array([1, 2, 6, 7])"
      ]
     },
     "execution_count": 71,
     "metadata": {},
     "output_type": "execute_result"
    }
   ],
   "source": [
    "rind = [0,0,1,1]\n",
    "cind = [1,2,1,2]\n",
    "arr[rind,cind]"
   ]
  },
  {
   "cell_type": "code",
   "execution_count": 72,
   "id": "15e8d0e3",
   "metadata": {},
   "outputs": [
    {
     "data": {
      "text/plain": [
       "array([[[ 0,  1,  2,  3,  4],\n",
       "        [ 5,  6,  7,  8,  9]],\n",
       "\n",
       "       [[10, 11, 12, 13, 14],\n",
       "        [15, 16, 17, 18, 19]],\n",
       "\n",
       "       [[20, 21, 22, 23, 24],\n",
       "        [25, 26, 27, 28, 29]]])"
      ]
     },
     "execution_count": 72,
     "metadata": {},
     "output_type": "execute_result"
    }
   ],
   "source": [
    "# 3D array \n",
    "arr3 = np.arange(30).reshape(3,2,5)\n",
    "arr3"
   ]
  },
  {
   "cell_type": "code",
   "execution_count": 73,
   "id": "1b07735f",
   "metadata": {},
   "outputs": [
    {
     "data": {
      "text/plain": [
       "array([ 5, 20])"
      ]
     },
     "execution_count": 73,
     "metadata": {},
     "output_type": "execute_result"
    }
   ],
   "source": [
    "mind = [0,2]\n",
    "rind = [1,0]\n",
    "cind = [0,0]\n",
    "arr3[mind,rind,cind]"
   ]
  },
  {
   "cell_type": "markdown",
   "id": "1a086015",
   "metadata": {},
   "source": [
    "### Filtering numpy array"
   ]
  },
  {
   "cell_type": "markdown",
   "id": "034e7eeb",
   "metadata": {},
   "source": [
    "For filtering the data , we have two functions . They are \n",
    "    \n",
    "                                     1. where()\n",
    "                                     2. extract()"
   ]
  },
  {
   "cell_type": "markdown",
   "id": "75b6583e",
   "metadata": {},
   "source": [
    "## where()"
   ]
  },
  {
   "cell_type": "markdown",
   "id": "b43fd21d",
   "metadata": {},
   "source": [
    "The where() function allows us to filter an array based on a given condition . \n",
    " \n",
    "     Syntax :-     np.where(condition , x, y)"
   ]
  },
  {
   "cell_type": "code",
   "execution_count": 74,
   "id": "32958721",
   "metadata": {},
   "outputs": [
    {
     "data": {
      "text/plain": [
       "array(['Nl', 'Nl', 'Nl', 'Nl', 'Nl', '6', '7', '8'], dtype='<U21')"
      ]
     },
     "execution_count": 74,
     "metadata": {},
     "output_type": "execute_result"
    }
   ],
   "source": [
    "a = np.array([1,2,3,4,5,6,7,8])\n",
    "# values greater than 5 \n",
    "np.where(a>5,a,'Nl')"
   ]
  },
  {
   "cell_type": "code",
   "execution_count": 75,
   "id": "f2691d9b",
   "metadata": {},
   "outputs": [
    {
     "data": {
      "text/plain": [
       "array(['0', 'None', '2', 'None', '4', 'None', '6', 'None', '8', 'None',\n",
       "       '10', 'None', '12', 'None', '14', 'None', '16', 'None', '18',\n",
       "       'None', '20', 'None', '22', 'None', '24', 'None', '26', 'None',\n",
       "       '28', 'None', '30', 'None', '32', 'None', '34', 'None', '36',\n",
       "       'None', '38', 'None', '40', 'None', '42', 'None', '44', 'None',\n",
       "       '46', 'None', '48', 'None', '50', 'None', '52', 'None', '54',\n",
       "       'None', '56', 'None', '58', 'None', '60', 'None', '62', 'None',\n",
       "       '64', 'None', '66', 'None', '68', 'None', '70', 'None', '72',\n",
       "       'None', '74', 'None', '76', 'None', '78', 'None', '80', 'None',\n",
       "       '82', 'None', '84', 'None', '86', 'None', '88', 'None', '90',\n",
       "       'None', '92', 'None', '94', 'None', '96', 'None', '98', 'None'],\n",
       "      dtype='<U21')"
      ]
     },
     "execution_count": 75,
     "metadata": {},
     "output_type": "execute_result"
    }
   ],
   "source": [
    "a = np.arange(100)\n",
    "# values divide by 2\n",
    "np.where(a%2==0, a, \"None\")"
   ]
  },
  {
   "cell_type": "code",
   "execution_count": 76,
   "id": "e3cb8fd9",
   "metadata": {},
   "outputs": [
    {
     "data": {
      "text/plain": [
       "array([100,   2, 300,   4])"
      ]
     },
     "execution_count": 76,
     "metadata": {},
     "output_type": "execute_result"
    }
   ],
   "source": [
    "a = np.array([10,20,30,40])\n",
    "x = np.array([1,2,3,4])\n",
    "y = np.array([100,200,300,400])\n",
    "np.where(a%20==0, x,y)"
   ]
  },
  {
   "cell_type": "code",
   "execution_count": 77,
   "id": "809ceb59",
   "metadata": {},
   "outputs": [
    {
     "data": {
      "text/plain": [
       "array([0, 2, 3, 0])"
      ]
     },
     "execution_count": 77,
     "metadata": {},
     "output_type": "execute_result"
    }
   ],
   "source": [
    "## filtering with multiple criteria \n",
    "a = np.array([1,2,3,4])\n",
    "criteria = (a<2)|(a>3)\n",
    "np.where(criteria, 0, a)"
   ]
  },
  {
   "cell_type": "markdown",
   "id": "34ca9422",
   "metadata": {},
   "source": [
    "## extract()"
   ]
  },
  {
   "cell_type": "markdown",
   "id": "fdbacacc",
   "metadata": {},
   "source": [
    "The extract( ) function provides a more direct way to filter arrays . It selects elements based on a condition and returns only those elements , rather than a new array with the same shape . \n",
    "  \n",
    "   syntax :- np.extract(condition , arr)"
   ]
  },
  {
   "cell_type": "code",
   "execution_count": 78,
   "id": "04463b89",
   "metadata": {},
   "outputs": [
    {
     "data": {
      "text/plain": [
       "array([ 0,  2,  4,  6,  8, 10, 12, 14, 16, 18, 20, 22, 24, 26, 28, 30, 32,\n",
       "       34, 36, 38, 40, 42, 44, 46, 48, 50, 52, 54, 56, 58, 60, 62, 64, 66,\n",
       "       68, 70, 72, 74, 76, 78, 80, 82, 84, 86, 88, 90, 92, 94, 96, 98])"
      ]
     },
     "execution_count": 78,
     "metadata": {},
     "output_type": "execute_result"
    }
   ],
   "source": [
    "a = np.arange(100)\n",
    "np.extract(a%2==0,a)"
   ]
  },
  {
   "cell_type": "code",
   "execution_count": 79,
   "id": "a1213e49",
   "metadata": {},
   "outputs": [
    {
     "data": {
      "text/plain": [
       "array([1, 4])"
      ]
     },
     "execution_count": 79,
     "metadata": {},
     "output_type": "execute_result"
    }
   ],
   "source": [
    "a = np.array([1,2,3,4])\n",
    "criteria = (a<2)|(a>3)\n",
    "np.extract(criteria, a)"
   ]
  },
  {
   "cell_type": "code",
   "execution_count": 80,
   "id": "a1340116",
   "metadata": {},
   "outputs": [
    {
     "data": {
      "text/plain": [
       "array([1, 2, 0, 3, 4], dtype=object)"
      ]
     },
     "execution_count": 80,
     "metadata": {},
     "output_type": "execute_result"
    }
   ],
   "source": [
    "### practical use of where() and extract()\n",
    "data = np.array([1,2,None,3,4])\n",
    "## Replace None with zero \n",
    "np.where(data==None, 0, data )"
   ]
  },
  {
   "cell_type": "code",
   "execution_count": 81,
   "id": "f3323d37",
   "metadata": {},
   "outputs": [
    {
     "data": {
      "text/plain": [
       "array([1, 2, 3, 4], dtype=object)"
      ]
     },
     "execution_count": 81,
     "metadata": {},
     "output_type": "execute_result"
    }
   ],
   "source": [
    "## filter missing value \n",
    "data = np.array([1,2,None,3,4]) \n",
    "np.extract(data!=None,data)\n"
   ]
  },
  {
   "cell_type": "markdown",
   "id": "adb220be",
   "metadata": {},
   "source": [
    "### Enumerate iteration using ndenumerate()"
   ]
  },
  {
   "cell_type": "code",
   "execution_count": 82,
   "id": "a9199c0c",
   "metadata": {},
   "outputs": [
    {
     "name": "stdout",
     "output_type": "stream",
     "text": [
      "(0,) 1\n",
      "(1,) 2\n",
      "(2,) 3\n"
     ]
    }
   ],
   "source": [
    "arr = np.array([1,2,3])\n",
    "for idx , x in np.ndenumerate(arr):\n",
    "    print(idx , x)"
   ]
  },
  {
   "cell_type": "markdown",
   "id": "b8291fc3",
   "metadata": {},
   "source": [
    "### comaprision "
   ]
  },
  {
   "cell_type": "code",
   "execution_count": 83,
   "id": "5cb14b27",
   "metadata": {},
   "outputs": [
    {
     "name": "stdout",
     "output_type": "stream",
     "text": [
      "[False  True False  True False]\n",
      "[ True False False False  True]\n",
      "[False False  True False False]\n",
      "[False  True  True  True False]\n",
      "[ True False  True False  True]\n",
      "[ True  True False  True  True]\n"
     ]
    }
   ],
   "source": [
    "arr1 = np.array([1,4,2,52,3])\n",
    "arr2 = np.array([45,1,2,48,9])\n",
    "print(np.greater(arr1,arr2))\n",
    "print(np.less(arr1,arr2))\n",
    "print(np.equal(arr1,arr2))\n",
    "print(np.greater_equal(arr1,arr2))\n",
    "print(np.less_equal(arr1,arr2))\n",
    "print(np.not_equal(arr1,arr2))"
   ]
  },
  {
   "cell_type": "markdown",
   "id": "62af8d91",
   "metadata": {},
   "source": [
    "### array splitting "
   ]
  },
  {
   "cell_type": "markdown",
   "id": "28c0e4b5",
   "metadata": {},
   "source": [
    "                   1. np.split()\n",
    "                   2. np.array_split()\n",
    "                   3. np.vsplit()\n",
    "                   4. np.hsplit()\n",
    "                   5. np.dsplit()"
   ]
  },
  {
   "cell_type": "code",
   "execution_count": 84,
   "id": "16bdbb2d",
   "metadata": {},
   "outputs": [
    {
     "name": "stdout",
     "output_type": "stream",
     "text": [
      "[0 1 2 3 4 5 6 7 8 9]\n"
     ]
    }
   ],
   "source": [
    "arr1 = np.arange(10)\n",
    "print(arr1)"
   ]
  },
  {
   "cell_type": "code",
   "execution_count": 85,
   "id": "1f30be53",
   "metadata": {},
   "outputs": [
    {
     "data": {
      "text/plain": [
       "[array([0, 1, 2, 3, 4]), array([5, 6, 7, 8, 9])]"
      ]
     },
     "execution_count": 85,
     "metadata": {},
     "output_type": "execute_result"
    }
   ],
   "source": [
    "np.split(arr1,2)"
   ]
  },
  {
   "cell_type": "code",
   "execution_count": 86,
   "id": "4ae26164",
   "metadata": {},
   "outputs": [
    {
     "data": {
      "text/plain": [
       "[array([0, 1, 2, 3]), array([4, 5, 6]), array([7, 8, 9])]"
      ]
     },
     "execution_count": 86,
     "metadata": {},
     "output_type": "execute_result"
    }
   ],
   "source": [
    "np.array_split(arr1,3)"
   ]
  },
  {
   "cell_type": "code",
   "execution_count": 87,
   "id": "9c09b440",
   "metadata": {},
   "outputs": [
    {
     "name": "stdout",
     "output_type": "stream",
     "text": [
      "[[0 1 2 3 4]\n",
      " [5 6 7 8 9]]\n"
     ]
    }
   ],
   "source": [
    "arr2 = np.arange(10).reshape(2,5)\n",
    "print(arr2)"
   ]
  },
  {
   "cell_type": "code",
   "execution_count": 88,
   "id": "7e421eca",
   "metadata": {},
   "outputs": [
    {
     "data": {
      "text/plain": [
       "[array([[0, 1, 2, 3, 4]]), array([[5, 6, 7, 8, 9]])]"
      ]
     },
     "execution_count": 88,
     "metadata": {},
     "output_type": "execute_result"
    }
   ],
   "source": [
    "np.vsplit(arr2, 2)"
   ]
  },
  {
   "cell_type": "code",
   "execution_count": 89,
   "id": "24b30f46",
   "metadata": {},
   "outputs": [
    {
     "name": "stdout",
     "output_type": "stream",
     "text": [
      "[[0 1]\n",
      " [2 3]]\n"
     ]
    }
   ],
   "source": [
    "arr3 = np.arange(4).reshape(2,2)\n",
    "print(arr3)"
   ]
  },
  {
   "cell_type": "code",
   "execution_count": 90,
   "id": "e3e5e3c9",
   "metadata": {},
   "outputs": [
    {
     "data": {
      "text/plain": [
       "[array([[0],\n",
       "        [2]]),\n",
       " array([[1],\n",
       "        [3]])]"
      ]
     },
     "execution_count": 90,
     "metadata": {},
     "output_type": "execute_result"
    }
   ],
   "source": [
    "np.hsplit(arr3,2)"
   ]
  },
  {
   "cell_type": "code",
   "execution_count": 91,
   "id": "8dfeb6ed",
   "metadata": {},
   "outputs": [
    {
     "name": "stdout",
     "output_type": "stream",
     "text": [
      "[[[ 0  1]\n",
      "  [ 2  3]]\n",
      "\n",
      " [[ 4  5]\n",
      "  [ 6  7]]\n",
      "\n",
      " [[ 8  9]\n",
      "  [10 11]]]\n"
     ]
    }
   ],
   "source": [
    "arr4 = np.arange(12).reshape(3,2,2)\n",
    "print(arr4)"
   ]
  },
  {
   "cell_type": "code",
   "execution_count": 92,
   "id": "d5414fcd",
   "metadata": {},
   "outputs": [
    {
     "data": {
      "text/plain": [
       "[array([[[ 0],\n",
       "         [ 2]],\n",
       " \n",
       "        [[ 4],\n",
       "         [ 6]],\n",
       " \n",
       "        [[ 8],\n",
       "         [10]]]),\n",
       " array([[[ 1],\n",
       "         [ 3]],\n",
       " \n",
       "        [[ 5],\n",
       "         [ 7]],\n",
       " \n",
       "        [[ 9],\n",
       "         [11]]])]"
      ]
     },
     "execution_count": 92,
     "metadata": {},
     "output_type": "execute_result"
    }
   ],
   "source": [
    "np.dsplit(arr4,2)"
   ]
  },
  {
   "cell_type": "markdown",
   "id": "fd070186",
   "metadata": {},
   "source": [
    "### ARITHMATIC OR MATRIX OPERATIONS"
   ]
  },
  {
   "cell_type": "code",
   "execution_count": 93,
   "id": "a5f9e5f3",
   "metadata": {},
   "outputs": [
    {
     "name": "stdout",
     "output_type": "stream",
     "text": [
      "array 1 :-  [1 2 3 4 5 6 7]\n",
      "array 2 :-  [2 1 3 4 2 4 5]\n",
      "Addition :-  [ 3  3  6  8  7 10 12]\n",
      "Subtraction :- [-1  1  0  0  3  2  2]\n",
      "Multiplication :- [ 2  2  9 16 10 24 35]\n",
      "Dot product  :-  98\n",
      "Division :-  [0.5 2.  1.  1.  2.5 1.5 1.4]\n",
      "Floor division :-  [0 2 1 1 2 1 1]\n",
      "Reaminder :-  [1 0 0 0 1 2 2]\n",
      "Power :-  [    1     2    27   256    25  1296 16807]\n"
     ]
    }
   ],
   "source": [
    "a1 = np.array([1,2,3,4,5,6,7])\n",
    "a2 = np.array([2,1,3,4,2,4,5])\n",
    "print('array 1 :- ' , a1)\n",
    "print('array 2 :- ' , a2)\n",
    "print(\"Addition :- \" , np.add(a1,a2))\n",
    "print(\"Subtraction :-\" ,np.subtract(a1,a2))\n",
    "print(\"Multiplication :-\" ,np.multiply(a1,a2))\n",
    "print(\"Dot product  :- \" , np.dot(a1,a2) )\n",
    "print(\"Division :- \" , np.divide(a1,a2))\n",
    "print(\"Floor division :- \" , np.floor_divide(a1,a2))\n",
    "print(\"Reaminder :- \" , np.mod(a1,a2))\n",
    "print(\"Power :- \" , np.power(a1,a2))\n",
    "\n"
   ]
  },
  {
   "cell_type": "markdown",
   "id": "1c24be65",
   "metadata": {},
   "source": [
    "### unique values "
   ]
  },
  {
   "cell_type": "code",
   "execution_count": 94,
   "id": "4751931f",
   "metadata": {},
   "outputs": [
    {
     "name": "stdout",
     "output_type": "stream",
     "text": [
      "[ 11   1   1   2   1   2   1   2   3  34   2  45  23  23  21  45 232]\n",
      "Unique element array :- [  1   2   3  11  21  23  34  45 232]\n"
     ]
    }
   ],
   "source": [
    "arr1 = np.array([11,1,1,2,1,2,1,2,3,34,2,45,23,23,21,45,232])\n",
    "print(arr1)\n",
    "print(\"Unique element array :-\" ,np.unique(arr1))"
   ]
  },
  {
   "cell_type": "code",
   "execution_count": 95,
   "id": "e390211e",
   "metadata": {},
   "outputs": [
    {
     "name": "stdout",
     "output_type": "stream",
     "text": [
      "1 occur 4 Times\n",
      "2 occur 4 Times\n",
      "3 occur 1 Times\n",
      "11 occur 1 Times\n",
      "21 occur 1 Times\n",
      "23 occur 2 Times\n",
      "34 occur 1 Times\n",
      "45 occur 2 Times\n",
      "232 occur 1 Times\n"
     ]
    }
   ],
   "source": [
    "element , count = np.unique(arr1, return_counts=True)\n",
    "for i , j in zip(element , count):\n",
    "    print(i ,\"occur\" , j ,\"Times\")"
   ]
  },
  {
   "cell_type": "code",
   "execution_count": 96,
   "id": "aac015d0",
   "metadata": {},
   "outputs": [
    {
     "name": "stdout",
     "output_type": "stream",
     "text": [
      "1 At index 1\n",
      "2 At index 3\n",
      "3 At index 8\n",
      "11 At index 0\n",
      "21 At index 14\n",
      "23 At index 12\n",
      "34 At index 9\n",
      "45 At index 11\n",
      "232 At index 16\n"
     ]
    }
   ],
   "source": [
    "### unique values and their first index \n",
    "element , indx = np.unique(arr1, return_index=True)\n",
    "for element , index in zip(element , indx):\n",
    "    print(element , \"At index\" , index)"
   ]
  },
  {
   "cell_type": "markdown",
   "id": "1adb0be5",
   "metadata": {},
   "source": [
    "### numpy:- statistical opeartions "
   ]
  },
  {
   "cell_type": "code",
   "execution_count": 97,
   "id": "b3b22b63",
   "metadata": {},
   "outputs": [
    {
     "name": "stdout",
     "output_type": "stream",
     "text": [
      "[ 6.20601291e-01  1.75654941e+00  1.42633396e-01  7.78385724e-01\n",
      "  7.71149669e-01  7.09956976e-02  1.04088810e+00 -7.85498068e-01\n",
      "  9.49091543e-01 -8.46025752e-02  6.71308167e-01 -9.12560090e-01\n",
      " -9.86241626e-01 -6.51752935e-01 -4.03062628e-01  1.74775173e+00\n",
      "  9.50391360e-01  1.01918073e+00 -1.22606954e-01  6.68409863e-01\n",
      "  4.76475574e-01  5.92600725e-01 -1.37934456e+00  1.97416968e+00\n",
      " -5.64363030e-01 -5.82191863e-01 -8.71449696e-01 -2.28333133e-01\n",
      " -8.99145075e-02  7.18169618e-01 -6.81213564e-01 -1.56755543e+00\n",
      "  1.22866608e+00  5.01652040e-01 -2.14339827e+00  9.94058852e-01\n",
      "  7.71026011e-01 -9.18527863e-01  3.62214536e-03  1.84564642e+00\n",
      " -3.28178411e-01  1.07332896e+00  3.80580405e-01 -2.88051157e-01\n",
      " -9.06377456e-04 -1.70320414e+00 -4.33728888e-01 -5.51730536e-01\n",
      "  3.86170973e-01  2.32827892e-01  3.24129054e-01 -1.03903958e+00\n",
      " -8.24332372e-01  7.28677996e-01 -1.11236250e+00  2.09056901e-01\n",
      " -1.52217930e-01 -8.97275559e-02 -1.01742598e-01  1.25258275e+00\n",
      "  1.09646992e+00 -2.00933216e-01 -7.02367871e-01 -3.19386973e-01\n",
      " -1.22253473e+00 -5.33525542e-01 -3.74452269e-01 -1.23296307e+00\n",
      " -1.21704191e+00  9.13996936e-01  2.67434471e-01  4.61803171e-01\n",
      "  1.08019347e+00  1.27643853e+00  1.39253264e+00 -2.24835919e+00\n",
      "  9.85947942e-01  3.78548199e-01  4.57070509e-01 -1.43534117e+00\n",
      " -6.23707393e-01 -8.65806167e-02 -8.64958883e-01  1.18579297e+00\n",
      " -1.05196785e+00 -6.71985624e-01  2.74442697e-01 -5.85200475e-01\n",
      "  1.30556360e+00  3.33171441e-01 -3.73845888e-01 -1.19999500e+00\n",
      "  2.73058240e-01  1.17080836e+00 -6.48204288e-01  8.33150876e-01\n",
      "  6.90001846e-03 -3.37444097e-01 -5.79480429e-01  8.91252479e-01]\n"
     ]
    }
   ],
   "source": [
    "arr1 = np.random.randn(100)\n",
    "print(arr1)"
   ]
  },
  {
   "cell_type": "code",
   "execution_count": 98,
   "id": "79678908",
   "metadata": {},
   "outputs": [
    {
     "name": "stdout",
     "output_type": "stream",
     "text": [
      "Max element :-  1.9741696770025385\n",
      "Min element :-  -2.248359186223199\n",
      "Mean of array :-  0.03357239935149142\n",
      "Median of array :-  0.0013578839537715262\n",
      "Variance of array :-  0.8212507692411216\n",
      "Standard devaition of array :-  0.9062288724384815\n"
     ]
    }
   ],
   "source": [
    "print(\"Max element :- \" ,np.amax(arr1))\n",
    "print(\"Min element :- \" ,np.amin(arr1))\n",
    "print(\"Mean of array :- \" ,np.mean(arr1))\n",
    "print(\"Median of array :- \" , np.median(arr1))\n",
    "print(\"Variance of array :- \" , np.var(arr1))\n",
    "print(\"Standard devaition of array :- \", np.std(arr1))"
   ]
  },
  {
   "cell_type": "code",
   "execution_count": 99,
   "id": "56cbedcb",
   "metadata": {},
   "outputs": [
    {
     "name": "stdout",
     "output_type": "stream",
     "text": [
      "array2 :-  [1 2 1 3 4 5 2]\n",
      "After adding a element :-  [ 1  2  1  3  4  5  2 50]\n"
     ]
    }
   ],
   "source": [
    "\n",
    "arr2 = np.array([1,2,1,3,4,5,2])\n",
    "print(\"array2 :- \", arr2)\n",
    "# adding 50 at end in arr2 \n",
    "arr2=np.append(arr2, 50)\n",
    "print(\"After adding a element :- \" , arr2)\n"
   ]
  },
  {
   "cell_type": "code",
   "execution_count": 100,
   "id": "de3a5322",
   "metadata": {},
   "outputs": [
    {
     "name": "stdout",
     "output_type": "stream",
     "text": [
      "array 3 :-  [0 1 2 3 4 5 6 7 8 9]\n",
      "Size of array :-  10\n",
      "After insertion :-  [ 0  1  2 23  3  4  5  6  7  8  9]\n",
      "Size of array :-  11\n"
     ]
    }
   ],
   "source": [
    "arr3 = np.arange(10)\n",
    "print(\"array 3 :- \" , arr3)\n",
    "print(\"Size of array :- \", arr3.size)\n",
    "# add 23 at index 3 \n",
    "arr3 = np.insert(arr3, 3, 23)\n",
    "print(\"After insertion :- \" , arr3)\n",
    "print(\"Size of array :- \", arr3.size)"
   ]
  },
  {
   "cell_type": "code",
   "execution_count": 101,
   "id": "e0e417fb",
   "metadata": {},
   "outputs": [
    {
     "name": "stdout",
     "output_type": "stream",
     "text": [
      "New array :- [ 0  1  2 23  4  5  6  7  8  9]\n",
      "Size of array :-  10\n"
     ]
    }
   ],
   "source": [
    "# delete index 4 from arr3 \n",
    "arr3 = np.delete(arr3 , 4)\n",
    "print(\"New array :-\" , arr3)\n",
    "print(\"Size of array :- \", arr3.size)"
   ]
  },
  {
   "cell_type": "code",
   "execution_count": 102,
   "id": "15ea8265",
   "metadata": {},
   "outputs": [
    {
     "name": "stdout",
     "output_type": "stream",
     "text": [
      "Array 4 :- \n",
      " [[ 0  1  2  3  4]\n",
      " [ 5  6  7  8  9]\n",
      " [10 11 12 13 14]]\n"
     ]
    }
   ],
   "source": [
    "arr4 = np.arange(15).reshape(3,5)\n",
    "print(\"Array 4 :- \\n\" , arr4  )"
   ]
  },
  {
   "cell_type": "code",
   "execution_count": 103,
   "id": "878ab595",
   "metadata": {},
   "outputs": [
    {
     "name": "stdout",
     "output_type": "stream",
     "text": [
      "[[ 0  1  4]\n",
      " [ 5  6  9]\n",
      " [10 11 14]]\n"
     ]
    }
   ],
   "source": [
    "# delete column index 2 ,3 \n",
    "arr4 =np.delete(arr4 , [2,3],axis=1)\n",
    "print(arr4)"
   ]
  },
  {
   "cell_type": "markdown",
   "id": "8a78f889",
   "metadata": {},
   "source": [
    "### copy() vs view()"
   ]
  },
  {
   "cell_type": "code",
   "execution_count": 104,
   "id": "f5a8440b",
   "metadata": {},
   "outputs": [
    {
     "name": "stdout",
     "output_type": "stream",
     "text": [
      "initial array :-  [0 1 2 3 4 5 6 7 8 9]\n",
      "Copy of array :-  [0 1 2 3 4 5 6 7 8 9]\n",
      "initial array :-  [45  1  2  3  4  5  6  7  8  9]\n",
      "Copy of array :-  [0 1 2 3 4 5 6 7 8 9]\n"
     ]
    }
   ],
   "source": [
    "arr1 = np.arange(10)\n",
    "print(\"initial array :- \", arr1)\n",
    "arr2 = arr1.copy()\n",
    "print(\"Copy of array :- \" , arr2)\n",
    "arr1[0]=45\n",
    "print(\"initial array :- \", arr1)\n",
    "print(\"Copy of array :- \" , arr2)"
   ]
  },
  {
   "cell_type": "code",
   "execution_count": 105,
   "id": "459347c9",
   "metadata": {},
   "outputs": [
    {
     "name": "stdout",
     "output_type": "stream",
     "text": [
      "initial array :-  [10 11 12 13 14 15 16 17 18 19]\n",
      "view of array :-  [10 11 12 13 14 15 16 17 18 19]\n",
      "initial array :-  [45 11 12 13 14 15 16 17 18 19]\n",
      "view of array :-  [45 11 12 13 14 15 16 17 18 19]\n",
      "initial array :-  [45 11 12 23 14 15 16 17 18 19]\n",
      "view of array :-  [45 11 12 23 14 15 16 17 18 19]\n"
     ]
    }
   ],
   "source": [
    "arr1 = np.arange(10,20)\n",
    "print(\"initial array :- \", arr1)\n",
    "arr2 = arr1.view()\n",
    "print(\"view of array :- \" , arr2)\n",
    "arr1[0]=45\n",
    "print(\"initial array :- \", arr1)\n",
    "print(\"view of array :- \" , arr2)\n",
    "arr2[3]=23\n",
    "print(\"initial array :- \", arr1)\n",
    "print(\"view of array :- \" , arr2)\n"
   ]
  },
  {
   "cell_type": "code",
   "execution_count": 106,
   "id": "3e04825e",
   "metadata": {},
   "outputs": [
    {
     "name": "stdout",
     "output_type": "stream",
     "text": [
      "None\n"
     ]
    }
   ],
   "source": [
    "print(arr1.base)"
   ]
  },
  {
   "cell_type": "code",
   "execution_count": 107,
   "id": "9c3f71bb",
   "metadata": {},
   "outputs": [
    {
     "name": "stdout",
     "output_type": "stream",
     "text": [
      "[45 11 12 23 14 15 16 17 18 19]\n"
     ]
    }
   ],
   "source": [
    "print(arr2.base)"
   ]
  },
  {
   "cell_type": "markdown",
   "id": "f7ef12c4",
   "metadata": {},
   "source": [
    "### numpy :- flatten() and ravel()"
   ]
  },
  {
   "cell_type": "markdown",
   "id": "bbd7c309",
   "metadata": {},
   "source": [
    "In numpy , both the flatten() and ravel functions are used to convert multidimensional arrays into one - dimensional arrays . However , there are a few diffrences between these two functions . \n",
    "\n",
    "\n",
    "The flatten() function returns a copy of the array , while the ravel() functions returns a view of the original array whenever possible . A view is a reference to the original data  , whereas a  copy creates a new array with it,s own data "
   ]
  },
  {
   "cell_type": "code",
   "execution_count": 108,
   "id": "591be9ce",
   "metadata": {},
   "outputs": [
    {
     "name": "stdout",
     "output_type": "stream",
     "text": [
      "array :- \n",
      "  [[[0 1]\n",
      "  [2 3]]\n",
      "\n",
      " [[4 5]\n",
      "  [6 7]]]\n",
      "Dimension of arr3 :-  3\n"
     ]
    }
   ],
   "source": [
    "arr3 = np.arange(8).reshape(2,2,2)\n",
    "print(\"array :- \\n \", arr3)\n",
    "print(\"Dimension of arr3 :- \" , arr3.ndim )"
   ]
  },
  {
   "cell_type": "code",
   "execution_count": 109,
   "id": "99807302",
   "metadata": {},
   "outputs": [
    {
     "name": "stdout",
     "output_type": "stream",
     "text": [
      "Original array :- \n",
      "  [[[0 1]\n",
      "  [2 3]]\n",
      "\n",
      " [[4 5]\n",
      "  [6 7]]]\n",
      "Flattened array :-  [0 1 2 3 4 5 6 7]\n",
      "Original array :- \n",
      "  [[[0 1]\n",
      "  [2 3]]\n",
      "\n",
      " [[4 5]\n",
      "  [6 7]]]\n",
      "Flattened array :-  [0 1 7 3 4 5 6 7]\n"
     ]
    }
   ],
   "source": [
    "# using flatten()\n",
    "print(\"Original array :- \\n \",arr3)\n",
    "new_arr = arr3.flatten()\n",
    "print(\"Flattened array :- \",new_arr)\n",
    "new_arr[2]=7\n",
    "print(\"Original array :- \\n \",arr3)\n",
    "print(\"Flattened array :- \",new_arr)"
   ]
  },
  {
   "cell_type": "code",
   "execution_count": 110,
   "id": "fa901cd6",
   "metadata": {},
   "outputs": [
    {
     "name": "stdout",
     "output_type": "stream",
     "text": [
      "Original array :- \n",
      "  [[[0 1]\n",
      "  [2 3]]\n",
      "\n",
      " [[4 5]\n",
      "  [6 7]]]\n",
      "raveled  array :-  [0 1 2 3 4 5 6 7]\n",
      "Original array :- \n",
      "  [[[0 1]\n",
      "  [7 3]]\n",
      "\n",
      " [[4 5]\n",
      "  [6 7]]]\n",
      "raveled  array :-  [0 1 7 3 4 5 6 7]\n"
     ]
    }
   ],
   "source": [
    "# using ravel()\n",
    "print(\"Original array :- \\n \",arr3)\n",
    "new_arr = arr3.ravel()\n",
    "print(\"raveled  array :- \",new_arr)\n",
    "new_arr[2]=7\n",
    "print(\"Original array :- \\n \",arr3)\n",
    "print(\"raveled  array :- \",new_arr)\n"
   ]
  },
  {
   "cell_type": "markdown",
   "id": "4d50b899",
   "metadata": {},
   "source": [
    "#### sorting in numpy "
   ]
  },
  {
   "cell_type": "code",
   "execution_count": 111,
   "id": "0867daa7",
   "metadata": {},
   "outputs": [
    {
     "name": "stdout",
     "output_type": "stream",
     "text": [
      "Original array :- [-0.01695934  0.87422881 -1.55150327 -1.4978723   0.04889821 -1.87792886\n",
      "  0.0162782  -0.43295392  1.84627762  0.44920064]\n",
      "Sorted array :-  [-1.87792886 -1.55150327 -1.4978723  -0.43295392 -0.01695934  0.0162782\n",
      "  0.04889821  0.44920064  0.87422881  1.84627762]\n"
     ]
    }
   ],
   "source": [
    " # sorting in 1D array \n",
    "arr = np.random.randn(10)\n",
    "print(\"Original array :-\" , arr)\n",
    "print(\"Sorted array :- \" , np.sort(arr))"
   ]
  },
  {
   "cell_type": "code",
   "execution_count": 112,
   "id": "eed6dcb0",
   "metadata": {},
   "outputs": [
    {
     "name": "stdout",
     "output_type": "stream",
     "text": [
      "Original array :- \n",
      " [[-0.60090104 -0.9827539  -0.20362932 -1.48757059 -0.75277595]\n",
      " [-0.03401454 -0.18618165  0.93505783  0.53670982  0.33070725]]\n",
      "Row wise sorted array :- \n",
      " [[-1.48757059 -0.9827539  -0.75277595 -0.60090104 -0.20362932]\n",
      " [-0.18618165 -0.03401454  0.33070725  0.53670982  0.93505783]]\n",
      "Column wise sorted array :- \n",
      " [[-0.60090104 -0.9827539  -0.20362932 -1.48757059 -0.75277595]\n",
      " [-0.03401454 -0.18618165  0.93505783  0.53670982  0.33070725]]\n"
     ]
    }
   ],
   "source": [
    "# soritng in 2D array \n",
    "arr = np.random.randn(10).reshape(2,5)\n",
    "print(\"Original array :- \\n\" , arr)\n",
    "print(\"Row wise sorted array :- \\n\" , np.sort(arr, axis = 1))\n",
    "print(\"Column wise sorted array :- \\n\", np.sort(arr, axis =0))"
   ]
  },
  {
   "cell_type": "code",
   "execution_count": 113,
   "id": "16e31831",
   "metadata": {},
   "outputs": [
    {
     "name": "stdout",
     "output_type": "stream",
     "text": [
      "original array :-  [ 1.48059784 -0.34100741 -0.16286945  0.06530972  0.52612119  0.2574669\n",
      " -1.24582399 -0.25492464  0.07871027  1.66673645]\n",
      "absolute array :-  [1.48059784 0.34100741 0.16286945 0.06530972 0.52612119 0.2574669\n",
      " 1.24582399 0.25492464 0.07871027 1.66673645]\n"
     ]
    }
   ],
   "source": [
    "# absolute values of array \n",
    "arr = np.random.randn(10)\n",
    "print(\"original array :- \" , arr)\n",
    "print(\"absolute array :- \" , np.absolute(arr))"
   ]
  },
  {
   "cell_type": "code",
   "execution_count": 114,
   "id": "73ade852",
   "metadata": {},
   "outputs": [
    {
     "name": "stdout",
     "output_type": "stream",
     "text": [
      "array 1 :-  [0 1 2 3 4 5 6 7 8 9]\n",
      "array 2 :-  [20 21 22 23 24 25 26 27 28 29]\n",
      "Total sum of array 1 and array 2 elements :- 290\n"
     ]
    }
   ],
   "source": [
    "# summation 0f array1 and array 2\n",
    "arr1 = np.arange(10)\n",
    "arr2 = np.arange(20,30)\n",
    "print(\"array 1 :- \", arr1)\n",
    "print(\"array 2 :- \", arr2)\n",
    "print(\"Total sum of array 1 and array 2 elements :-\" , np.sum([arr1,arr2]))"
   ]
  },
  {
   "cell_type": "code",
   "execution_count": 115,
   "id": "3a7db264",
   "metadata": {},
   "outputs": [
    {
     "name": "stdout",
     "output_type": "stream",
     "text": [
      "array 1 :-  [0 1 2 3 4 5 6 7 8 9]\n",
      "array 2 :-  [20 21 22 23 24 25 26 27 28 29]\n",
      "Total sum of array 1 and array 2 elements along row side  :- [ 45 245]\n",
      "Total sum of array 1 and array 2 elements along columns side  :- [20 22 24 26 28 30 32 34 36 38]\n"
     ]
    }
   ],
   "source": [
    "# summation 0f array1 and array 2 on row basis \n",
    "arr1 = np.arange(10)\n",
    "arr2 = np.arange(20,30)\n",
    "print(\"array 1 :- \", arr1)\n",
    "print(\"array 2 :- \", arr2)\n",
    "print(\"Total sum of array 1 and array 2 elements along row side  :-\" , np.sum([arr1,arr2], axis = 1))\n",
    "print(\"Total sum of array 1 and array 2 elements along columns side  :-\" , np.sum([arr1,arr2], axis = 0))\n"
   ]
  },
  {
   "cell_type": "code",
   "execution_count": 116,
   "id": "c577091c",
   "metadata": {},
   "outputs": [
    {
     "name": "stdout",
     "output_type": "stream",
     "text": [
      "Original array :-  [16.96285924 18.6682153  19.55696946 11.95914629 19.37438692]\n",
      "Cummulative sum of array :-  [16.96285924 35.63107454 55.188044   67.14719029 86.52157721]\n"
     ]
    }
   ],
   "source": [
    "## cummulative sum of array 1 elements \n",
    "arr1 = np.random.uniform(10,20,5)\n",
    "print(\"Original array :- \" , arr1)\n",
    "print(\"Cummulative sum of array :- \", np.cumsum(arr1))"
   ]
  },
  {
   "cell_type": "code",
   "execution_count": 117,
   "id": "4535adc0",
   "metadata": {},
   "outputs": [
    {
     "name": "stdout",
     "output_type": "stream",
     "text": [
      "Original array :-  [3.49135335 8.67521075 6.63152226 9.72839654 6.14902092]\n",
      "Product of array :-  12015.291331215674\n"
     ]
    }
   ],
   "source": [
    "## product of elements of array 1 \n",
    "arr1 = np.random.uniform(1,10,5)\n",
    "print(\"Original array :- \" , arr1)\n",
    "print(\"Product of array :- \", np.prod(arr1))"
   ]
  },
  {
   "cell_type": "code",
   "execution_count": 118,
   "id": "43b48b78",
   "metadata": {},
   "outputs": [
    {
     "name": "stdout",
     "output_type": "stream",
     "text": [
      "Original array :-  [5.99718853 4.51229285 6.95499013 4.26699184 4.90819618]\n",
      "cummulative Product of array :-  [   5.99718853   27.06107094  188.20948133  803.08832109 3941.71503155]\n"
     ]
    }
   ],
   "source": [
    "### commulative product \n",
    "arr1 = np.random.uniform(1,10,5)\n",
    "print(\"Original array :- \" , arr1)\n",
    "print(\"cummulative Product of array :- \", np.cumprod(arr1))\n"
   ]
  },
  {
   "cell_type": "markdown",
   "id": "21f7b726",
   "metadata": {},
   "source": [
    "### numpy rounding decimals "
   ]
  },
  {
   "cell_type": "markdown",
   "id": "a404d782",
   "metadata": {},
   "source": [
    "                          1. trunc() or fix()\n",
    "                          2. around()\n",
    "                          3. floor()\n",
    "                          4. ceil()"
   ]
  },
  {
   "cell_type": "code",
   "execution_count": 119,
   "id": "e4984f70",
   "metadata": {},
   "outputs": [
    {
     "name": "stdout",
     "output_type": "stream",
     "text": [
      "Original array :-  [99.32868024 28.48910631 94.33860946 79.97675363 97.0839913 ]\n",
      "Fixing zeroes :-  [99. 28. 94. 79. 97.]\n",
      "Fixing zeroes :-  [99. 28. 94. 79. 97.]\n",
      "floor value of array :-  [99. 28. 94. 79. 97.]\n",
      "ceil value of array :-  [100.  29.  95.  80.  98.]\n"
     ]
    }
   ],
   "source": [
    "arr = np.random.uniform(10,100,5)\n",
    "print(\"Original array :- \" , arr)\n",
    "print(\"Fixing zeroes :- \" , np.fix(arr))\n",
    "print(\"Fixing zeroes :- \" , np.trunc(arr)) \n",
    "print(\"floor value of array :- \" , np.floor(arr))  \n",
    "print(\"ceil value of array :- \" , np.ceil(arr))           "
   ]
  },
  {
   "cell_type": "code",
   "execution_count": 120,
   "id": "4948e8b8",
   "metadata": {},
   "outputs": [
    {
     "name": "stdout",
     "output_type": "stream",
     "text": [
      "LCM of 100 and 25 = 100\n"
     ]
    }
   ],
   "source": [
    "## LCM \n",
    "num1 = 100\n",
    "num2 = 25\n",
    "print(\"LCM of {} and {} = {}\" .format(num1,num2,np.lcm(num1,num2)))"
   ]
  },
  {
   "cell_type": "code",
   "execution_count": 121,
   "id": "57ed8835",
   "metadata": {},
   "outputs": [
    {
     "name": "stdout",
     "output_type": "stream",
     "text": [
      "Original array :- [10 11 12 13 14 15 16 17 18 19]\n",
      "LCM OF array :-  232792560\n"
     ]
    }
   ],
   "source": [
    "# LCM of all elements of array 1 \n",
    "arr = np.arange(10,20)\n",
    "print(\"Original array :-\" , arr)\n",
    "print(\"LCM OF array :- \" , np.lcm.reduce(arr))"
   ]
  },
  {
   "cell_type": "code",
   "execution_count": 122,
   "id": "5a4f8612",
   "metadata": {},
   "outputs": [
    {
     "name": "stdout",
     "output_type": "stream",
     "text": [
      "GCD of 29 and 90 = 1\n"
     ]
    }
   ],
   "source": [
    "# GCD of elements \n",
    "num1 = 29 \n",
    "num2 =90 \n",
    "print(\"GCD of {} and {} = {}\" .format(num1,num2,np.gcd(num1,num2)))"
   ]
  },
  {
   "cell_type": "code",
   "execution_count": 123,
   "id": "6b92570d",
   "metadata": {},
   "outputs": [
    {
     "name": "stdout",
     "output_type": "stream",
     "text": [
      "GCD of 22 and 90 = 2\n"
     ]
    }
   ],
   "source": [
    "num1 = 22 \n",
    "num2 =90 \n",
    "print(\"GCD of {} and {} = {}\" .format(num1,num2,np.gcd(num1,num2)))"
   ]
  },
  {
   "cell_type": "code",
   "execution_count": 124,
   "id": "7da99719",
   "metadata": {},
   "outputs": [
    {
     "name": "stdout",
     "output_type": "stream",
     "text": [
      "Original array :-  [10 11 12 13 14 15 16 17 18 19]\n",
      "GCD of given array :-  1\n"
     ]
    }
   ],
   "source": [
    "# Finding gcd of all elemens of giving array \n",
    "arr = np.arange(10,20 )\n",
    "print(\"Original array :- \" , arr)\n",
    "print(\"GCD of given array :- \" , np.gcd.reduce(arr))"
   ]
  },
  {
   "cell_type": "markdown",
   "id": "1098a48e",
   "metadata": {},
   "source": [
    "### numpy linear algebra "
   ]
  },
  {
   "cell_type": "markdown",
   "id": "2666a5b8",
   "metadata": {},
   "source": [
    "                        1. dot()            calculates  products of two arrays \n",
    "                        2. inner()          calculates inner product of array\n",
    "                        3. outer()          calculates outers product of array\n",
    "                        4. linalg.det()            calculate determinant of matrix \n",
    "                        5. solve()          solve linear matrix equations \n",
    "                        6. inv()            calculate the multiplicative inverse of the matrix \n",
    "                        7. trace()          calculates the sum of diagonals elements "
   ]
  },
  {
   "cell_type": "code",
   "execution_count": 125,
   "id": "ac1138f5",
   "metadata": {},
   "outputs": [
    {
     "name": "stdout",
     "output_type": "stream",
     "text": [
      "array 1 : - \n",
      " [[1 2]\n",
      " [3 4]]\n",
      "array 2 :- \n",
      "  [[10 11]\n",
      " [12 13]]\n",
      "Dot products :-\n",
      "  [[34 37]\n",
      " [78 85]]\n",
      "Inner product :- \n",
      " [[32 38]\n",
      " [74 88]]\n",
      "Outer product :-\n",
      "  [[10 11 12 13]\n",
      " [20 22 24 26]\n",
      " [30 33 36 39]\n",
      " [40 44 48 52]]\n",
      "Dterminant of array 1:-  -2.0000000000000004\n",
      "Inverse of array 1 :- \n",
      "  [[-2.   1. ]\n",
      " [ 1.5 -0.5]]\n",
      "Diagonal elements sum of array 1 :-  5\n"
     ]
    }
   ],
   "source": [
    "arr1 = np.arange(1,5).reshape(2,2)\n",
    "arr2 = np.arange(10,14).reshape(2,2)\n",
    "print(\"array 1 : - \\n\" , arr1)\n",
    "print(\"array 2 :- \\n \" , arr2)\n",
    "print(\"Dot products :-\\n \" , np.dot(arr1,arr2))\n",
    "print(\"Inner product :- \\n\" , np.inner(arr1,arr2))\n",
    "print(\"Outer product :-\\n \", np.outer(arr1,arr2) )\n",
    "print(\"Dterminant of array 1:- \" , np.linalg.det(arr1))\n",
    "print(\"Inverse of array 1 :- \\n \", np.linalg.inv(arr1))\n",
    "print(\"Diagonal elements sum of array 1 :- \" , np.trace(arr1))"
   ]
  },
  {
   "cell_type": "markdown",
   "id": "886fb022",
   "metadata": {},
   "source": [
    "                                       THANK YOU "
   ]
  },
  {
   "cell_type": "markdown",
   "id": "1a1e6a4f",
   "metadata": {},
   "source": []
  }
 ],
 "metadata": {
  "kernelspec": {
   "display_name": "Python 3",
   "language": "python",
   "name": "python3"
  },
  "language_info": {
   "codemirror_mode": {
    "name": "ipython",
    "version": 3
   },
   "file_extension": ".py",
   "mimetype": "text/x-python",
   "name": "python",
   "nbconvert_exporter": "python",
   "pygments_lexer": "ipython3",
   "version": "3.13.0"
  }
 },
 "nbformat": 4,
 "nbformat_minor": 5
}
